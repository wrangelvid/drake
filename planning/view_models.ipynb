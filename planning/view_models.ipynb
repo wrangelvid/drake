{
 "cells": [
  {
   "cell_type": "code",
   "execution_count": null,
   "metadata": {},
   "outputs": [],
   "source": [
    "%load_ext autoreload\n",
    "%autoreload 2\n",
    "\n",
    "import os\n",
    "import time\n",
    "import numpy as np\n",
    "\n",
    "from pydrake.common import FindResourceOrThrow\n",
    "from pydrake.geometry import Box, Role, SceneGraph\n",
    "from pydrake.math import RigidTransform\n",
    "from pydrake.multibody.parsing import LoadModelDirectives, Parser, ProcessModelDirectives\n",
    "from pydrake.multibody.plant import CoulombFriction, AddMultibodyPlantSceneGraph, MultibodyPlant\n",
    "from pydrake.multibody.tree import RevoluteJoint, SpatialInertia, UnitInertia\n",
    "from pydrake.systems.analysis import Simulator\n",
    "from pydrake.systems.framework import DiagramBuilder\n",
    "from pydrake.systems.meshcat_visualizer import ConnectMeshcatVisualizer\n",
    "from pydrake.systems.primitives import TrajectorySource\n",
    "from pydrake.systems.rendering import MultibodyPositionToGeometryPose\n",
    "from pydrake.trajectories import PiecewisePolynomial\n",
    "\n",
    "from meshcat import Visualizer"
   ]
  },
  {
   "cell_type": "code",
   "execution_count": null,
   "metadata": {},
   "outputs": [],
   "source": [
    "# Setup meshcat\n",
    "from meshcat.servers.zmqserver import start_zmq_server_as_subprocess\n",
    "proc, zmq_url, web_url = start_zmq_server_as_subprocess(server_args=[])\n",
    "vis = Visualizer(zmq_url=zmq_url)\n",
    "\n",
    "# Sporadically need to run `pkill -f meshcat`"
   ]
  },
  {
   "cell_type": "markdown",
   "metadata": {},
   "source": [
    "# Visualize Model"
   ]
  },
  {
   "cell_type": "code",
   "execution_count": null,
   "metadata": {},
   "outputs": [],
   "source": [
    "model_file = \"drake/planning/models/planar_iiwa_dense_collision_welded_gripper.yaml\"\n",
    "# model_file = \"drake/planning/models/planar_iiwa_simple_collision_welded_gripper.yaml\"\n",
    "\n",
    "viz_role = Role.kIllustration\n",
    "# viz_role = Role.kProximity"
   ]
  },
  {
   "cell_type": "code",
   "execution_count": null,
   "metadata": {},
   "outputs": [],
   "source": [
    "vis.delete()\n",
    "display(vis.jupyter_cell())\n",
    "\n",
    "builder = DiagramBuilder()\n",
    "plant, scene_graph = AddMultibodyPlantSceneGraph(builder, time_step=0.0)\n",
    "parser = Parser(plant)\n",
    "parser.package_map().Add( \"wsg_50_description\", os.path.dirname(FindResourceOrThrow(\n",
    "            \"drake/manipulation/models/wsg_50_description/package.xml\")))\n",
    "\n",
    "table_dim = np.array([4, 4, 0.2])\n",
    "table = plant.AddRigidBody(\"table\", SpatialInertia(\n",
    "        mass=1.0, p_PScm_E=np.array([0., 0., 0.]), G_SP_E=UnitInertia(1.0, 1.0, 1.0)))\n",
    "plant.WeldFrames(plant.world_frame(), table.body_frame(), RigidTransform(p=np.array([0, 0, -table_dim[2]/2])))\n",
    "plant.RegisterVisualGeometry(table, RigidTransform(), Box(*table_dim), \"table_vis\",\n",
    "                             np.array([0.5, 0.5, 0.5, 1.]))\n",
    "plant.RegisterCollisionGeometry(table, RigidTransform(), Box(*table_dim), \"table_collision\",\n",
    "                                CoulombFriction(0.9, 0.8))\n",
    "\n",
    "directives_file = FindResourceOrThrow(model_file)\n",
    "directives = LoadModelDirectives(directives_file)\n",
    "models = ProcessModelDirectives(directives, plant, parser)\n",
    "[iiwa, wsg, shelves] = models\n",
    "\n",
    "plant.Finalize()\n",
    "\n",
    "visualizer = ConnectMeshcatVisualizer(builder, scene_graph, zmq_url=zmq_url,\n",
    "                                      delete_prefix_on_load=False, role=viz_role)\n",
    "diagram = builder.Build()\n",
    "\n",
    "q0 = [-0.2, -1.2, 1.6]\n",
    "index = 0\n",
    "for joint_index in plant.GetJointIndices(iiwa.model_instance):\n",
    "    joint = plant.get_mutable_joint(joint_index)\n",
    "    if isinstance(joint, RevoluteJoint):\n",
    "        joint.set_default_angle(q0[index])\n",
    "        index += 1\n",
    "\n",
    "visualizer.load()\n",
    "context = diagram.CreateDefaultContext()\n",
    "plant_context = plant.GetMyContextFromRoot(context)\n",
    "sg_context = scene_graph.GetMyContextFromRoot(context)\n",
    "diagram.Publish(context)"
   ]
  },
  {
   "cell_type": "markdown",
   "metadata": {},
   "source": [
    "# Visualize Trajectory"
   ]
  },
  {
   "cell_type": "code",
   "execution_count": null,
   "metadata": {},
   "outputs": [],
   "source": [
    "def visualize_trajectory(traj):\n",
    "    builder = DiagramBuilder()\n",
    "    \n",
    "    scene_graph = builder.AddSystem(SceneGraph())\n",
    "    plant = MultibodyPlant(time_step=0.0)\n",
    "    plant.RegisterAsSourceForSceneGraph(scene_graph)\n",
    "    parser = Parser(plant)\n",
    "    parser.package_map().Add( \"wsg_50_description\", os.path.dirname(FindResourceOrThrow(\n",
    "                \"drake/manipulation/models/wsg_50_description/package.xml\")))\n",
    "\n",
    "    table_dim = np.array([4, 4, 0.2])\n",
    "    table = plant.AddRigidBody(\"table\", SpatialInertia(\n",
    "            mass=1.0, p_PScm_E=np.array([0., 0., 0.]), G_SP_E=UnitInertia(1.0, 1.0, 1.0)))\n",
    "    plant.WeldFrames(plant.world_frame(), table.body_frame(), RigidTransform(p=np.array([0, 0, -table_dim[2]/2])))\n",
    "    plant.RegisterVisualGeometry(table, RigidTransform(), Box(*table_dim), \"table_vis\",\n",
    "                                 np.array([0.5, 0.5, 0.5, 1.]))\n",
    "    plant.RegisterCollisionGeometry(table, RigidTransform(), Box(*table_dim), \"table_collision\",\n",
    "                                    CoulombFriction(0.9, 0.8))\n",
    "    \n",
    "    directives_file = FindResourceOrThrow(model_file)\n",
    "    directives = LoadModelDirectives(directives_file)\n",
    "    models = ProcessModelDirectives(directives, plant, parser)\n",
    "    \n",
    "    plant.Finalize()\n",
    "\n",
    "    to_pose = builder.AddSystem(MultibodyPositionToGeometryPose(plant))\n",
    "    builder.Connect(to_pose.get_output_port(), scene_graph.get_source_pose_port(plant.get_source_id()))\n",
    "\n",
    "    traj_system = builder.AddSystem(TrajectorySource(traj))\n",
    "    builder.Connect(traj_system.get_output_port(), to_pose.get_input_port())\n",
    "    \n",
    "    meshcat = ConnectMeshcatVisualizer(builder, scene_graph, zmq_url=zmq_url,\n",
    "                                       delete_prefix_on_load=False, role=viz_role)\n",
    "\n",
    "    vis_diagram = builder.Build()\n",
    "    simulator = Simulator(vis_diagram)\n",
    "    meshcat.start_recording()\n",
    "    simulator.AdvanceTo(traj.end_time())\n",
    "    meshcat.publish_recording()\n",
    "    \n",
    "traj = PiecewisePolynomial.FirstOrderHold([0, 3], np.array([[-0.2, -1.2, 1.6], [0.4, 1.8, -0.5]]).T)\n",
    "\n",
    "vis.delete()\n",
    "display(vis.jupyter_cell())\n",
    "visualize_trajectory(traj)"
   ]
  },
  {
   "cell_type": "code",
   "execution_count": null,
   "metadata": {},
   "outputs": [],
   "source": []
  }
 ],
 "metadata": {
  "kernelspec": {
   "display_name": "Python 3",
   "language": "python",
   "name": "python3"
  },
  "language_info": {
   "codemirror_mode": {
    "name": "ipython",
    "version": 3
   },
   "file_extension": ".py",
   "mimetype": "text/x-python",
   "name": "python",
   "nbconvert_exporter": "python",
   "pygments_lexer": "ipython3",
   "version": "3.6.9"
  }
 },
 "nbformat": 4,
 "nbformat_minor": 2
}
