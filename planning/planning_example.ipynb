{
 "cells": [
  {
   "cell_type": "code",
   "execution_count": 1,
   "metadata": {},
   "outputs": [],
   "source": [
    "%load_ext autoreload\n",
    "%autoreload 2\n",
    "\n",
    "import os\n",
    "import time\n",
    "import numpy as np\n",
    "\n",
    "from pydrake.common import FindResourceOrThrow, RandomGenerator\n",
    "from pydrake.geometry import Box, Role, SceneGraph\n",
    "from pydrake.math import RigidTransform\n",
    "from pydrake.multibody.parsing import LoadModelDirectives, Parser, ProcessModelDirectives\n",
    "from pydrake.multibody.plant import CoulombFriction, AddMultibodyPlantSceneGraph, MultibodyPlant\n",
    "from pydrake.multibody.tree import RevoluteJoint, SpatialInertia, UnitInertia\n",
    "from pydrake.systems.analysis import Simulator\n",
    "from pydrake.systems.framework import DiagramBuilder\n",
    "from pydrake.systems.meshcat_visualizer import ConnectMeshcatVisualizer\n",
    "from pydrake.systems.primitives import TrajectorySource\n",
    "from pydrake.systems.rendering import MultibodyPositionToGeometryPose\n",
    "from pydrake.trajectories import PiecewisePolynomial\n",
    "\n",
    "from pydrake.planning.common_robotics_utilities import (\n",
    "    MakeKinematicLinearRRTNearestNeighborsFunction,\n",
    "    MakeKinematicLinearBiRRTNearestNeighborsFunction,\n",
    "    MakeRRTTimeoutTerminationFunction,\n",
    "    MakeBiRRTTimeoutTerminationFunction,\n",
    "    PropagatedState,\n",
    "    RRTPlanSinglePath,\n",
    "    BiRRTPlanSinglePath,\n",
    "    SimpleRRTPlannerState)\n",
    "\n",
    "from meshcat import Visualizer"
   ]
  },
  {
   "cell_type": "code",
   "execution_count": 2,
   "metadata": {},
   "outputs": [
    {
     "name": "stdout",
     "output_type": "stream",
     "text": [
      "You can open the visualizer by visiting the following URL:\n",
      "http://127.0.0.1:7010/static/\n"
     ]
    }
   ],
   "source": [
    "# Setup meshcat\n",
    "from meshcat.servers.zmqserver import start_zmq_server_as_subprocess\n",
    "proc, zmq_url, web_url = start_zmq_server_as_subprocess(server_args=[])\n",
    "vis = Visualizer(zmq_url=zmq_url)\n",
    "\n",
    "# Sporadically need to run `pkill -f meshcat`"
   ]
  },
  {
   "cell_type": "markdown",
   "metadata": {},
   "source": [
    "# Visualize Model"
   ]
  },
  {
   "cell_type": "code",
   "execution_count": 3,
   "metadata": {},
   "outputs": [],
   "source": [
    "model_file = \"drake/planning/models/planar_iiwa_dense_collision_welded_gripper.yaml\"\n",
    "# model_file = \"drake/planning/models/planar_iiwa_simple_collision_welded_gripper.yaml\"\n",
    "\n",
    "viz_role = Role.kIllustration\n",
    "# viz_role = Role.kProximity"
   ]
  },
  {
   "cell_type": "code",
   "execution_count": 4,
   "metadata": {},
   "outputs": [
    {
     "data": {
      "text/html": [
       "\n",
       "            <div style=\"height: 400px; width: 100%; overflow-x: auto; overflow-y: hidden; resize: both\">\n",
       "            <iframe src=\"http://127.0.0.1:7010/static/\" style=\"width: 100%; height: 100%; border: none\"></iframe>\n",
       "            </div>\n",
       "            "
      ],
      "text/plain": [
       "<IPython.core.display.HTML object>"
      ]
     },
     "metadata": {},
     "output_type": "display_data"
    },
    {
     "name": "stdout",
     "output_type": "stream",
     "text": [
      "Connecting to meshcat-server at zmq_url=tcp://127.0.0.1:6001...\n",
      "You can open the visualizer by visiting the following URL:\n",
      "http://127.0.0.1:7010/static/\n",
      "Connected to meshcat-server.\n"
     ]
    }
   ],
   "source": [
    "vis.delete()\n",
    "display(vis.jupyter_cell())\n",
    "\n",
    "builder = DiagramBuilder()\n",
    "plant, scene_graph = AddMultibodyPlantSceneGraph(builder, time_step=0.0)\n",
    "parser = Parser(plant)\n",
    "parser.package_map().Add( \"wsg_50_description\", os.path.dirname(FindResourceOrThrow(\n",
    "            \"drake/manipulation/models/wsg_50_description/package.xml\")))\n",
    "\n",
    "table_dim = np.array([4, 4, 0.2])\n",
    "table = plant.AddRigidBody(\"table\", SpatialInertia(\n",
    "        mass=1.0, p_PScm_E=np.array([0., 0., 0.]), G_SP_E=UnitInertia(1.0, 1.0, 1.0)))\n",
    "plant.WeldFrames(plant.world_frame(), table.body_frame(), RigidTransform(p=np.array([0, 0, -table_dim[2]/2])))\n",
    "plant.RegisterVisualGeometry(table, RigidTransform(), Box(*table_dim), \"table_vis\",\n",
    "                             np.array([0.5, 0.5, 0.5, 1.]))\n",
    "plant.RegisterCollisionGeometry(table, RigidTransform(), Box(*table_dim), \"table_collision\",\n",
    "                                CoulombFriction(0.9, 0.8))\n",
    "\n",
    "directives_file = FindResourceOrThrow(model_file)\n",
    "directives = LoadModelDirectives(directives_file)\n",
    "models = ProcessModelDirectives(directives, plant, parser)\n",
    "[iiwa, wsg, shelves] = models\n",
    "\n",
    "plant.Finalize()\n",
    "\n",
    "visualizer = ConnectMeshcatVisualizer(builder, scene_graph, zmq_url=zmq_url,\n",
    "                                      delete_prefix_on_load=False, role=viz_role)\n",
    "diagram = builder.Build()\n",
    "\n",
    "q0 = [-0.2, -1.2, 1.6]\n",
    "index = 0\n",
    "for joint_index in plant.GetJointIndices(iiwa.model_instance):\n",
    "    joint = plant.get_mutable_joint(joint_index)\n",
    "    if isinstance(joint, RevoluteJoint):\n",
    "        joint.set_default_angle(q0[index])\n",
    "        index += 1\n",
    "\n",
    "visualizer.load()\n",
    "context = diagram.CreateDefaultContext()\n",
    "plant_context = plant.GetMyContextFromRoot(context)\n",
    "sg_context = scene_graph.GetMyContextFromRoot(context)\n",
    "diagram.Publish(context)"
   ]
  },
  {
   "cell_type": "markdown",
   "metadata": {},
   "source": [
    "# Visualize Trajectory"
   ]
  },
  {
   "cell_type": "code",
   "execution_count": 19,
   "metadata": {},
   "outputs": [
    {
     "data": {
      "text/html": [
       "\n",
       "            <div style=\"height: 400px; width: 100%; overflow-x: auto; overflow-y: hidden; resize: both\">\n",
       "            <iframe src=\"http://127.0.0.1:7010/static/\" style=\"width: 100%; height: 100%; border: none\"></iframe>\n",
       "            </div>\n",
       "            "
      ],
      "text/plain": [
       "<IPython.core.display.HTML object>"
      ]
     },
     "metadata": {},
     "output_type": "display_data"
    },
    {
     "name": "stdout",
     "output_type": "stream",
     "text": [
      "Connecting to meshcat-server at zmq_url=tcp://127.0.0.1:6001...\n",
      "You can open the visualizer by visiting the following URL:\n",
      "http://127.0.0.1:7010/static/\n",
      "Connected to meshcat-server.\n"
     ]
    }
   ],
   "source": [
    "def visualize_trajectory(traj):\n",
    "    builder = DiagramBuilder()\n",
    "    \n",
    "    scene_graph = builder.AddSystem(SceneGraph())\n",
    "    plant = MultibodyPlant(time_step=0.0)\n",
    "    plant.RegisterAsSourceForSceneGraph(scene_graph)\n",
    "    parser = Parser(plant)\n",
    "    parser.package_map().Add( \"wsg_50_description\", os.path.dirname(FindResourceOrThrow(\n",
    "                \"drake/manipulation/models/wsg_50_description/package.xml\")))\n",
    "\n",
    "    table_dim = np.array([4, 4, 0.2])\n",
    "    table = plant.AddRigidBody(\"table\", SpatialInertia(\n",
    "            mass=1.0, p_PScm_E=np.array([0., 0., 0.]), G_SP_E=UnitInertia(1.0, 1.0, 1.0)))\n",
    "    plant.WeldFrames(plant.world_frame(), table.body_frame(), RigidTransform(p=np.array([0, 0, -table_dim[2]/2])))\n",
    "    plant.RegisterVisualGeometry(table, RigidTransform(), Box(*table_dim), \"table_vis\",\n",
    "                                 np.array([0.5, 0.5, 0.5, 1.]))\n",
    "    plant.RegisterCollisionGeometry(table, RigidTransform(), Box(*table_dim), \"table_collision\",\n",
    "                                    CoulombFriction(0.9, 0.8))\n",
    "    \n",
    "    directives_file = FindResourceOrThrow(model_file)\n",
    "    directives = LoadModelDirectives(directives_file)\n",
    "    models = ProcessModelDirectives(directives, plant, parser)\n",
    "    \n",
    "    plant.Finalize()\n",
    "\n",
    "    to_pose = builder.AddSystem(MultibodyPositionToGeometryPose(plant))\n",
    "    builder.Connect(to_pose.get_output_port(), scene_graph.get_source_pose_port(plant.get_source_id()))\n",
    "\n",
    "    traj_system = builder.AddSystem(TrajectorySource(traj))\n",
    "    builder.Connect(traj_system.get_output_port(), to_pose.get_input_port())\n",
    "    \n",
    "    meshcat = ConnectMeshcatVisualizer(builder, scene_graph, zmq_url=zmq_url,\n",
    "                                       delete_prefix_on_load=False, role=viz_role)\n",
    "\n",
    "    vis_diagram = builder.Build()\n",
    "    simulator = Simulator(vis_diagram)\n",
    "    meshcat.start_recording()\n",
    "    simulator.AdvanceTo(traj.end_time())\n",
    "    meshcat.publish_recording()\n",
    "\n",
    "q_test = [0.4, 1.8, -0.5]\n",
    "traj = PiecewisePolynomial.FirstOrderHold([0, 3], np.array([[-0.2, -1.2, 1.6], q_test]).T)\n",
    "vis.delete()\n",
    "display(vis.jupyter_cell())\n",
    "visualize_trajectory(traj)"
   ]
  },
  {
   "cell_type": "markdown",
   "metadata": {},
   "source": [
    "# Use RRT to Plan Trajectory"
   ]
  },
  {
   "cell_type": "code",
   "execution_count": 76,
   "metadata": {},
   "outputs": [
    {
     "ename": "KeyboardInterrupt",
     "evalue": "",
     "output_type": "error",
     "traceback": [
      "\u001b[0;31m---------------------------------------------------------------------------\u001b[0m",
      "\u001b[0;31mKeyboardInterrupt\u001b[0m                         Traceback (most recent call last)",
      "\u001b[0;32m<ipython-input-76-780fd1b583e1>\u001b[0m in \u001b[0;36m<module>\u001b[0;34m\u001b[0m\n\u001b[1;32m     74\u001b[0m \u001b[0mtermination_fn\u001b[0m \u001b[0;34m=\u001b[0m \u001b[0mMakeRRTTimeoutTerminationFunction\u001b[0m\u001b[0;34m(\u001b[0m\u001b[0msolve_timeout\u001b[0m\u001b[0;34m)\u001b[0m\u001b[0;34m\u001b[0m\u001b[0;34m\u001b[0m\u001b[0m\n\u001b[1;32m     75\u001b[0m \u001b[0;34m\u001b[0m\u001b[0m\n\u001b[0;32m---> 76\u001b[0;31m single_result = RRTPlanSinglePath(\n\u001b[0m\u001b[1;32m     77\u001b[0m     \u001b[0mtree\u001b[0m\u001b[0;34m=\u001b[0m\u001b[0mrrt_tree\u001b[0m\u001b[0;34m,\u001b[0m \u001b[0msampling_fn\u001b[0m\u001b[0;34m=\u001b[0m\u001b[0msampling_cspace\u001b[0m\u001b[0;34m,\u001b[0m\u001b[0;34m\u001b[0m\u001b[0;34m\u001b[0m\u001b[0m\n\u001b[1;32m     78\u001b[0m     \u001b[0mnearest_neighbor_fn\u001b[0m \u001b[0;34m=\u001b[0m\u001b[0mnearest_neighbor_fn\u001b[0m\u001b[0;34m,\u001b[0m\u001b[0;34m\u001b[0m\u001b[0;34m\u001b[0m\u001b[0m\n",
      "\u001b[0;32m<ipython-input-76-780fd1b583e1>\u001b[0m in \u001b[0;36mextend_fn\u001b[0;34m(nearest, sample, is_start_tree)\u001b[0m\n\u001b[1;32m     59\u001b[0m     \u001b[0mextend\u001b[0m \u001b[0;34m=\u001b[0m \u001b[0mdifference\u001b[0m\u001b[0;34m(\u001b[0m\u001b[0mextend\u001b[0m\u001b[0;34m,\u001b[0m \u001b[0mnearest\u001b[0m\u001b[0;34m)\u001b[0m \u001b[0;34m+\u001b[0m \u001b[0mnearest\u001b[0m \u001b[0;31m#ensure that shortest rotation path will be taken\u001b[0m\u001b[0;34m\u001b[0m\u001b[0;34m\u001b[0m\u001b[0m\n\u001b[1;32m     60\u001b[0m \u001b[0;34m\u001b[0m\u001b[0m\n\u001b[0;32m---> 61\u001b[0;31m     \u001b[0;32mif\u001b[0m \u001b[0;32mnot\u001b[0m \u001b[0mcheck_edge_validity_fn\u001b[0m\u001b[0;34m(\u001b[0m\u001b[0mnearest\u001b[0m\u001b[0;34m,\u001b[0m \u001b[0mextend\u001b[0m\u001b[0;34m)\u001b[0m\u001b[0;34m:\u001b[0m\u001b[0;34m\u001b[0m\u001b[0;34m\u001b[0m\u001b[0m\n\u001b[0m\u001b[1;32m     62\u001b[0m         \u001b[0;32mreturn\u001b[0m \u001b[0;34m[\u001b[0m\u001b[0;34m]\u001b[0m\u001b[0;34m\u001b[0m\u001b[0;34m\u001b[0m\u001b[0m\n\u001b[1;32m     63\u001b[0m \u001b[0;34m\u001b[0m\u001b[0m\n",
      "\u001b[0;32m<ipython-input-76-780fd1b583e1>\u001b[0m in \u001b[0;36mcheck_edge_validity_fn\u001b[0;34m(start, end)\u001b[0m\n\u001b[1;32m     45\u001b[0m         \u001b[0;32mreturn\u001b[0m \u001b[0;32mTrue\u001b[0m\u001b[0;34m\u001b[0m\u001b[0;34m\u001b[0m\u001b[0m\n\u001b[1;32m     46\u001b[0m \u001b[0;34m\u001b[0m\u001b[0m\n\u001b[0;32m---> 47\u001b[0;31m     return (checkEdgeCollisionFree(start, end, collision_step_size/2)\n\u001b[0m\u001b[1;32m     48\u001b[0m             and checkEdgeCollisionFree(end, start, collision_step_size/2))\n\u001b[1;32m     49\u001b[0m \u001b[0;34m\u001b[0m\u001b[0m\n",
      "\u001b[0;32m<ipython-input-76-780fd1b583e1>\u001b[0m in \u001b[0;36mcheckEdgeCollisionFree\u001b[0;34m(start, end, stepsize)\u001b[0m\n\u001b[1;32m     34\u001b[0m         \u001b[0;32mfor\u001b[0m \u001b[0mstep\u001b[0m \u001b[0;32min\u001b[0m \u001b[0mrange\u001b[0m\u001b[0;34m(\u001b[0m\u001b[0mint\u001b[0m\u001b[0;34m(\u001b[0m\u001b[0mnum_steps\u001b[0m\u001b[0;34m)\u001b[0m\u001b[0;34m+\u001b[0m\u001b[0;36m1\u001b[0m\u001b[0;34m)\u001b[0m\u001b[0;34m:\u001b[0m\u001b[0;34m\u001b[0m\u001b[0;34m\u001b[0m\u001b[0m\n\u001b[1;32m     35\u001b[0m             \u001b[0minterpolation_ratio\u001b[0m \u001b[0;34m=\u001b[0m \u001b[0mstep\u001b[0m \u001b[0;34m/\u001b[0m \u001b[0mnum_steps\u001b[0m\u001b[0;34m\u001b[0m\u001b[0;34m\u001b[0m\u001b[0m\n\u001b[0;32m---> 36\u001b[0;31m             \u001b[0minterpolated_point\u001b[0m \u001b[0;34m=\u001b[0m \u001b[0mstart\u001b[0m \u001b[0;34m+\u001b[0m \u001b[0mnp\u001b[0m\u001b[0;34m.\u001b[0m\u001b[0mround\u001b[0m\u001b[0;34m(\u001b[0m\u001b[0minterpolation_ratio\u001b[0m\u001b[0;34m*\u001b[0m\u001b[0;34m(\u001b[0m\u001b[0mend\u001b[0m\u001b[0;34m-\u001b[0m\u001b[0mstart\u001b[0m\u001b[0;34m)\u001b[0m\u001b[0;34m)\u001b[0m\u001b[0;34m\u001b[0m\u001b[0;34m\u001b[0m\u001b[0m\n\u001b[0m\u001b[1;32m     37\u001b[0m \u001b[0;34m\u001b[0m\u001b[0m\n\u001b[1;32m     38\u001b[0m             \u001b[0;31m#check for collisions\u001b[0m\u001b[0;34m\u001b[0m\u001b[0;34m\u001b[0m\u001b[0;34m\u001b[0m\u001b[0m\n",
      "\u001b[0;31mKeyboardInterrupt\u001b[0m: "
     ]
    }
   ],
   "source": [
    "q_start = np.array([0.5, -1.2, 0])\n",
    "q_end = np.array([0.8, -1.6, -0.9])\n",
    "\n",
    "goal_bias = 0.05\n",
    "step_size = np.pi/16\n",
    "collision_step_size = step_size/4\n",
    "solve_timeout = 100\n",
    "\n",
    "plant_context_planning = plant.GetMyContextFromRoot(context)\n",
    "\n",
    "\n",
    "def sampling_cspace():\n",
    "    if np.random.rand() < goal_bias:\n",
    "        return q_end\n",
    "    # we have no joint limits imposed. Thus each joint can move between 0 and 2*pi\n",
    "    return np.array([np.random.rand()*2*np.pi for _ in range(3)])\n",
    "\n",
    "def check_goal_fn(q):\n",
    "    return np.linalg.norm(q_end - q) < 1e-6\n",
    "\n",
    "def difference(q_target, q_source):\n",
    "    return (q_target - q_source + np.pi) % (2*np.pi) - np.pi\n",
    "\n",
    "def distance_fn(q_1, q_2):\n",
    "    diffs = np.array(list(map(lambda q_i1, q_i2: difference(q_i1, q_i2) ,q_1, q_2)))\n",
    "    \n",
    "    return np.sqrt(np.sum(np.square(diffs)))\n",
    "\n",
    "def check_edge_validity_fn(start, end):\n",
    "    #use first order interpolation to check collisions along a path between start and end\n",
    "    def checkEdgeCollisionFree(start, end, stepsize):\n",
    "        num_steps = np.ceil(distance_fn(start, end)/stepsize)\n",
    "\n",
    "        for step in range(int(num_steps)+1):\n",
    "            interpolation_ratio = step / num_steps\n",
    "            interpolated_point = start + np.round(interpolation_ratio*(end-start))\n",
    "            \n",
    "            #check for collisions\n",
    "            plant.SetPositions(plant_context_planning, interpolated_point)\n",
    "            query_object = plant.get_geometry_query_input_port().Eval(plant_context_planning)\n",
    "            \n",
    "            if query_object.HasCollisions():\n",
    "                return False\n",
    "\n",
    "        return True\n",
    "\n",
    "    return (checkEdgeCollisionFree(start, end, collision_step_size/2)\n",
    "            and checkEdgeCollisionFree(end, start, collision_step_size/2))\n",
    "\n",
    "def extend_fn(nearest, sample, is_start_tree = None):\n",
    "    extend = None\n",
    "    extend_dist = distance_fn(nearest, sample)\n",
    "    \n",
    "    if extend_dist <= step_size:\n",
    "        extend = sample\n",
    "    else:\n",
    "        extend = nearest + step_size/extend_dist * (sample - nearest)\n",
    "    \n",
    "    extend = difference(extend, nearest) + nearest #ensure that shortest rotation path will be taken\n",
    "    \n",
    "    if not check_edge_validity_fn(nearest, extend):\n",
    "        return []\n",
    "    \n",
    "    return [PropagatedState(state=extend, relative_parent_index=-1)]\n",
    "    \n",
    "    \n",
    "    \n",
    "\n",
    "rrt_tree = [SimpleRRTPlannerState(q_start)]\n",
    "\n",
    "\n",
    "nearest_neighbor_fn = MakeKinematicLinearRRTNearestNeighborsFunction(distance_fn=distance_fn, use_parallel = False)\n",
    "\n",
    "termination_fn = MakeRRTTimeoutTerminationFunction(solve_timeout)\n",
    "\n",
    "single_result = RRTPlanSinglePath(\n",
    "    tree=rrt_tree, sampling_fn=sampling_cspace,\n",
    "    nearest_neighbor_fn =nearest_neighbor_fn,\n",
    "    forward_propagation_fn=extend_fn,\n",
    "    state_added_callback_fn=None,\n",
    "    check_goal_reached_fn=check_goal_fn, goal_reached_callback_fn=None,\n",
    "    termination_check_fn=termination_fn)\n",
    "\n",
    "path = single_result.Path()\n",
    "\n",
    "print(path)\n",
    "\n",
    "rrt_traj = PiecewisePolynomial.FirstOrderHold(list(range(len(path))), np.stack(path).T) \n",
    "\n",
    "vis.delete()\n",
    "display(vis.jupyter_cell())\n",
    "visualize_trajectory(rrt_traj)"
   ]
  },
  {
   "cell_type": "markdown",
   "metadata": {},
   "source": [
    "# Use Bi-RRT to Plan Trajectory"
   ]
  },
  {
   "cell_type": "code",
   "execution_count": 89,
   "metadata": {},
   "outputs": [
    {
     "name": "stderr",
     "output_type": "stream",
     "text": [
      "<ipython-input-76-780fd1b583e1>:35: RuntimeWarning: invalid value encountered in double_scalars\n",
      "  interpolation_ratio = step / num_steps\n"
     ]
    },
    {
     "name": "stdout",
     "output_type": "stream",
     "text": [
      "[array([ 0.5, -1.2,  0. ]), array([ 0.70749379, -0.93853702,  0.04721764]), array([ 0.70694375, -0.8729474 ,  0.1427304 ]), array([ 0.70694375, -0.8729474 ,  0.1427304 ]), array([ 0.70963084, -0.88183402,  0.10206186]), array([ 0.71595487, -0.90274847,  0.00634939]), array([ 0.70195977, -0.94528196, -0.08101951]), array([ 0.73200878, -0.9278626 , -0.17284494]), array([ 0.71687251, -0.94470455, -0.26837256]), array([ 0.75838831, -0.88490495, -0.33424162]), array([ 0.77417326, -0.87390973, -0.43051325]), array([ 0.79323201, -1.33579998, -0.75655865]), array([ 0.8, -1.6, -0.9])]\n",
      "[array([ 0.5, -1.2,  0. ]), array([ 0.52860673, -1.23814231, -0.08582019]), array([ 0.55721346, -1.27628461, -0.17164038]), array([ 0.63699159, -1.11716413, -0.07145177]), array([ 0.71419189, -0.96318524,  0.02549948]), array([ 0.78927332, -0.81343251,  0.11978978]), array([ 0.86212828, -0.66812056,  0.21128399]), array([ 0.932686  , -0.52739054,  0.29989322]), array([ 1.00091013, -0.39131494,  0.38557185]), array([ 1.06679491, -0.25990527,  0.46831263]), array([ 1.13036045, -0.13312142,  0.5481408 ]), array([ 1.1916478 , -0.01088149,  0.62510794]), array([1.2507142 , 0.10692865, 0.69928591]), array([1.30853118, 0.2222468 , 0.77189481]), array([1.36564501, 0.33616247, 0.84362067]), array([1.4219833 , 0.44853132, 0.91437258]), array([1.47747598, 0.55921355, 0.98406253]), array([1.52628889, 0.76094347, 1.06438581]), array([1.57371395, 0.95693785, 1.14242535]), array([1.61945992, 1.14599298, 1.21770188]), array([1.66330561, 1.32719482, 1.28985144]), array([1.70511045, 1.49996241, 1.35864271]), array([1.74481196, 1.66403753, 1.42397289]), array([1.7824139 , 1.81943571, 1.48584815]), array([1.81797012, 1.96637952, 1.54435711]), array([1.85156836, 2.10523154, 1.59964414]), array([1.88331638, 2.23643713, 1.65188658]), array([1.91333141, 2.36048076, 1.70127732]), array([1.91451095, 2.36312438, 1.7994094 ]), array([1.91569048, 2.365768  , 1.89754149]), array([1.91687001, 2.36841162, 1.99567357]), array([1.91687001, 2.36841162, 1.99567357]), array([1.95023117, 2.31045373, 1.95474388]), array([1.99200439, 2.23788167, 1.90349371]), array([2.03377761, 2.16530962, 1.85224354]), array([2.07555083, 2.09273756, 1.80099337]), array([2.11732405, 2.0201655 , 1.7497432 ]), array([2.15909727, 1.94759344, 1.69849303]), array([2.20087048, 1.87502138, 1.64724286]), array([2.2426437 , 1.80244932, 1.59599269]), array([2.17537306, 1.8027428 , 1.52448842]), array([2.10810242, 1.80303629, 1.45298416]), array([2.12756838, 1.7442218 , 1.376825  ]), array([2.14703433, 1.6854073 , 1.30066584]), array([2.16650028, 1.6265928 , 1.22450668]), array([2.18596623, 1.56777831, 1.14834752]), array([2.20543218, 1.50896381, 1.07218836]), array([2.12219979, 1.33909942, 1.0521814 ]), array([2.03591461, 1.16300475, 1.03144063]), array([1.94692911, 0.98139914, 1.01005077]), array([1.85567707, 0.79516788, 0.98811609]), array([1.76264521, 0.60530429, 0.96575358]), array([1.66833857, 0.41283905, 0.94308465]), array([1.6408276 , 0.31939537, 0.93084899]), array([1.550442  , 0.14052774, 0.77484573]), array([ 1.45758583, -0.04322902,  0.61457831]), array([ 1.36263071, -0.23113948,  0.45068815]), array([ 1.26020245, -0.43383881,  0.27389955]), array([ 1.14982537, -0.65226839,  0.08339149]), array([ 1.03143374, -0.88655827, -0.12094948]), array([ 0.90564531, -1.135486  , -0.33805717]), array([ 0.77393746, -1.39612787, -0.56538161]), array([ 0.78045309, -1.44709591, -0.64903621]), array([ 0.78696873, -1.49806394, -0.7326908 ]), array([ 0.79348436, -1.54903197, -0.8163454 ]), array([ 0.8, -1.6, -0.9])]\n"
     ]
    }
   ],
   "source": [
    "# Reuse single RRT functions, but need to add connect\n",
    "seed = 0\n",
    "step_size = np.pi/32\n",
    "collision_step_size = step_size/128\n",
    "\n",
    "def connect_fn(nearest, sample, is_start_tree):\n",
    "    total_dist = distance_fn(nearest, sample)\n",
    "    total_steps = int(np.ceil(total_dist / step_size))        \n",
    "        \n",
    "    propagated_states = []\n",
    "    parent_offset = -1\n",
    "    current = nearest\n",
    "    for steps in range(total_steps):\n",
    "        current_target = None\n",
    "        target_dist = distance_fn(current, sample)\n",
    "        if target_dist > step_size:\n",
    "            #interpolate\n",
    "            current_target = current + step_size/target_dist * (sample - current)\n",
    "            \n",
    "        elif target_dist < 1e-6:\n",
    "            break\n",
    "        else:\n",
    "            current_target = sample\n",
    "        \n",
    "        current_target = difference(current_target, current) + current #ensure that shortest rotation path will be taken\n",
    "\n",
    "        if not check_edge_validity_fn(current, current_target):\n",
    "            return propagated_states\n",
    "    \n",
    "                    \n",
    "        propagated_states.append(PropagatedState(state=current_target, relative_parent_index=parent_offset))\n",
    "        parent_offset += 1\n",
    "        current = current_target\n",
    "\n",
    "    return propagated_states\n",
    "        \n",
    "        \n",
    "def states_connected_fn(source, target, is_start_tree):\n",
    "    return np.linalg.norm(source - target) < 1e-6\n",
    "        \n",
    "start_tree = [SimpleRRTPlannerState(q_start)]\n",
    "end_tree = [SimpleRRTPlannerState(q_end)]\n",
    "\n",
    "\n",
    "nearest_neighbor_fn = MakeKinematicLinearBiRRTNearestNeighborsFunction(distance_fn=distance_fn, use_parallel = False)\n",
    "\n",
    "termination_fn = MakeBiRRTTimeoutTerminationFunction(solve_timeout)\n",
    "\n",
    "extend_result = BiRRTPlanSinglePath(\n",
    "    start_tree=start_tree, goal_tree=end_tree,\n",
    "    state_sampling_fn=sampling_cspace,\n",
    "    nearest_neighbor_fn=nearest_neighbor_fn, propagation_fn=extend_fn,\n",
    "    state_added_callback_fn=None,\n",
    "    states_connected_fn=states_connected_fn,\n",
    "    goal_bridge_callback_fn=None,\n",
    "    tree_sampling_bias=0.5, p_switch_tree=0.25,\n",
    "    termination_check_fn=termination_fn, rng=RandomGenerator(seed))\n",
    "\n",
    "connect_result = BiRRTPlanSinglePath(\n",
    "    start_tree=start_tree, goal_tree=end_tree,\n",
    "    state_sampling_fn=sampling_cspace,\n",
    "    nearest_neighbor_fn=nearest_neighbor_fn, propagation_fn=connect_fn,\n",
    "    state_added_callback_fn=None,\n",
    "    states_connected_fn=states_connected_fn,\n",
    "    goal_bridge_callback_fn=None,\n",
    "    tree_sampling_bias=0.5, p_switch_tree=0.25,\n",
    "    termination_check_fn=termination_fn, rng=RandomGenerator(seed))\n",
    "\n",
    "extend_path = extend_result.Path()\n",
    "connect_path = connect_result.Path()"
   ]
  },
  {
   "cell_type": "code",
   "execution_count": 92,
   "metadata": {},
   "outputs": [
    {
     "data": {
      "text/html": [
       "\n",
       "            <div style=\"height: 400px; width: 100%; overflow-x: auto; overflow-y: hidden; resize: both\">\n",
       "            <iframe src=\"http://127.0.0.1:7010/static/\" style=\"width: 100%; height: 100%; border: none\"></iframe>\n",
       "            </div>\n",
       "            "
      ],
      "text/plain": [
       "<IPython.core.display.HTML object>"
      ]
     },
     "metadata": {},
     "output_type": "display_data"
    },
    {
     "name": "stdout",
     "output_type": "stream",
     "text": [
      "Connecting to meshcat-server at zmq_url=tcp://127.0.0.1:6001...\n",
      "You can open the visualizer by visiting the following URL:\n",
      "http://127.0.0.1:7010/static/\n",
      "Connected to meshcat-server.\n"
     ]
    }
   ],
   "source": [
    "birrt_traj = PiecewisePolynomial.FirstOrderHold(list(range(len(connect_path))), np.stack(connect_path).T) \n",
    "#birrt_traj = PiecewisePolynomial.FirstOrderHold(list(range(len(extend_path))), np.stack(extend_path).T) \n",
    "\n",
    "vis.delete()\n",
    "display(vis.jupyter_cell())\n",
    "visualize_trajectory(birrt_traj)"
   ]
  }
 ],
 "metadata": {
  "kernelspec": {
   "display_name": "Python 3",
   "language": "python",
   "name": "python3"
  },
  "language_info": {
   "codemirror_mode": {
    "name": "ipython",
    "version": 3
   },
   "file_extension": ".py",
   "mimetype": "text/x-python",
   "name": "python",
   "nbconvert_exporter": "python",
   "pygments_lexer": "ipython3",
   "version": "3.8.10"
  }
 },
 "nbformat": 4,
 "nbformat_minor": 2
}
