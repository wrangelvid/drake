{
 "cells": [
  {
   "cell_type": "code",
   "execution_count": 14,
   "metadata": {},
   "outputs": [
    {
     "name": "stdout",
     "output_type": "stream",
     "text": [
      "The autoreload extension is already loaded. To reload it, use:\n",
      "  %reload_ext autoreload\n"
     ]
    }
   ],
   "source": [
    "%load_ext autoreload\n",
    "%autoreload 2\n",
    "\n",
    "import os\n",
    "import time\n",
    "import numpy as np\n",
    "\n",
    "from pydrake.common import FindResourceOrThrow, RandomGenerator\n",
    "from pydrake.geometry import Box, Role, SceneGraph\n",
    "from pydrake.math import RigidTransform\n",
    "from pydrake.multibody.parsing import LoadModelDirectives, Parser, ProcessModelDirectives\n",
    "from pydrake.multibody.plant import CoulombFriction, AddMultibodyPlantSceneGraph, MultibodyPlant\n",
    "from pydrake.multibody.tree import RevoluteJoint, SpatialInertia, UnitInertia\n",
    "from pydrake.systems.analysis import Simulator\n",
    "from pydrake.systems.framework import DiagramBuilder\n",
    "from pydrake.systems.meshcat_visualizer import ConnectMeshcatVisualizer\n",
    "from pydrake.systems.primitives import TrajectorySource\n",
    "from pydrake.systems.rendering import MultibodyPositionToGeometryPose\n",
    "from pydrake.trajectories import PiecewisePolynomial\n",
    "\n",
    "from pydrake.planning.common_robotics_utilities import (\n",
    "    MakeKinematicLinearRRTNearestNeighborsFunction,\n",
    "    MakeKinematicLinearBiRRTNearestNeighborsFunction,\n",
    "    MakeRRTTimeoutTerminationFunction,\n",
    "    MakeBiRRTTimeoutTerminationFunction,\n",
    "    PropagatedState,\n",
    "    RRTPlanSinglePath,\n",
    "    BiRRTPlanSinglePath,\n",
    "    SimpleRRTPlannerState,\n",
    "    Graph,\n",
    "    GrowRoadMap,\n",
    "    UpdateRoadMapEdges,\n",
    "    QueryPath,\n",
    "    LazyQueryPath)\n",
    "\n",
    "from meshcat import Visualizer"
   ]
  },
  {
   "cell_type": "code",
   "execution_count": 2,
   "metadata": {},
   "outputs": [
    {
     "name": "stdout",
     "output_type": "stream",
     "text": [
      "You can open the visualizer by visiting the following URL:\n",
      "http://127.0.0.1:7010/static/\n"
     ]
    }
   ],
   "source": [
    "# Setup meshcat\n",
    "from meshcat.servers.zmqserver import start_zmq_server_as_subprocess\n",
    "proc, zmq_url, web_url = start_zmq_server_as_subprocess(server_args=[])\n",
    "vis = Visualizer(zmq_url=zmq_url)\n",
    "\n",
    "# Sporadically need to run `pkill -f meshcat`"
   ]
  },
  {
   "cell_type": "markdown",
   "metadata": {},
   "source": [
    "# Visualize Model"
   ]
  },
  {
   "cell_type": "code",
   "execution_count": 3,
   "metadata": {},
   "outputs": [],
   "source": [
    "model_file = \"drake/planning/models/planar_iiwa_dense_collision_welded_gripper.yaml\"\n",
    "# model_file = \"drake/planning/models/planar_iiwa_simple_collision_welded_gripper.yaml\"\n",
    "\n",
    "viz_role = Role.kIllustration\n",
    "# viz_role = Role.kProximity"
   ]
  },
  {
   "cell_type": "code",
   "execution_count": 9,
   "metadata": {},
   "outputs": [
    {
     "data": {
      "text/html": [
       "\n",
       "            <div style=\"height: 400px; width: 100%; overflow-x: auto; overflow-y: hidden; resize: both\">\n",
       "            <iframe src=\"http://127.0.0.1:7010/static/\" style=\"width: 100%; height: 100%; border: none\"></iframe>\n",
       "            </div>\n",
       "            "
      ],
      "text/plain": [
       "<IPython.core.display.HTML object>"
      ]
     },
     "metadata": {},
     "output_type": "display_data"
    },
    {
     "name": "stdout",
     "output_type": "stream",
     "text": [
      "Connecting to meshcat-server at zmq_url=tcp://127.0.0.1:6001...\n",
      "You can open the visualizer by visiting the following URL:\n",
      "http://127.0.0.1:7010/static/\n",
      "Connected to meshcat-server.\n"
     ]
    }
   ],
   "source": [
    "vis.delete()\n",
    "display(vis.jupyter_cell())\n",
    "\n",
    "builder = DiagramBuilder()\n",
    "plant, scene_graph = AddMultibodyPlantSceneGraph(builder, time_step=0.0)\n",
    "parser = Parser(plant)\n",
    "parser.package_map().Add( \"wsg_50_description\", os.path.dirname(FindResourceOrThrow(\n",
    "            \"drake/manipulation/models/wsg_50_description/package.xml\")))\n",
    "\n",
    "table_dim = np.array([4, 4, 0.2])\n",
    "table = plant.AddRigidBody(\"table\", SpatialInertia(\n",
    "        mass=1.0, p_PScm_E=np.array([0., 0., 0.]), G_SP_E=UnitInertia(1.0, 1.0, 1.0)))\n",
    "plant.WeldFrames(plant.world_frame(), table.body_frame(), RigidTransform(p=np.array([0, 0, -table_dim[2]/2])))\n",
    "plant.RegisterVisualGeometry(table, RigidTransform(), Box(*table_dim), \"table_vis\",\n",
    "                             np.array([0.5, 0.5, 0.5, 1.]))\n",
    "plant.RegisterCollisionGeometry(table, RigidTransform(), Box(*table_dim), \"table_collision\",\n",
    "                                CoulombFriction(0.9, 0.8))\n",
    "\n",
    "directives_file = FindResourceOrThrow(model_file)\n",
    "directives = LoadModelDirectives(directives_file)\n",
    "models = ProcessModelDirectives(directives, plant, parser)\n",
    "[iiwa, wsg, shelves] = models\n",
    "\n",
    "plant.Finalize()\n",
    "\n",
    "visualizer = ConnectMeshcatVisualizer(builder, scene_graph, zmq_url=zmq_url,\n",
    "                                      delete_prefix_on_load=False, role=viz_role)\n",
    "diagram = builder.Build()\n",
    "\n",
    "q0 = [-0.2, -1.2, 1.6]\n",
    "index = 0\n",
    "for joint_index in plant.GetJointIndices(iiwa.model_instance):\n",
    "    joint = plant.get_mutable_joint(joint_index)\n",
    "    if isinstance(joint, RevoluteJoint):\n",
    "        joint.set_default_angle(q0[index])\n",
    "        index += 1\n",
    "\n",
    "visualizer.load()\n",
    "context = diagram.CreateDefaultContext()\n",
    "plant_context = plant.GetMyContextFromRoot(context)\n",
    "sg_context = scene_graph.GetMyContextFromRoot(context)\n",
    "diagram.Publish(context)"
   ]
  },
  {
   "cell_type": "markdown",
   "metadata": {},
   "source": [
    "# Visualize Trajectory"
   ]
  },
  {
   "cell_type": "code",
   "execution_count": 11,
   "metadata": {},
   "outputs": [
    {
     "data": {
      "text/html": [
       "\n",
       "            <div style=\"height: 400px; width: 100%; overflow-x: auto; overflow-y: hidden; resize: both\">\n",
       "            <iframe src=\"http://127.0.0.1:7010/static/\" style=\"width: 100%; height: 100%; border: none\"></iframe>\n",
       "            </div>\n",
       "            "
      ],
      "text/plain": [
       "<IPython.core.display.HTML object>"
      ]
     },
     "metadata": {},
     "output_type": "display_data"
    },
    {
     "name": "stdout",
     "output_type": "stream",
     "text": [
      "Connecting to meshcat-server at zmq_url=tcp://127.0.0.1:6001...\n",
      "You can open the visualizer by visiting the following URL:\n",
      "http://127.0.0.1:7010/static/\n",
      "Connected to meshcat-server.\n"
     ]
    }
   ],
   "source": [
    "def visualize_trajectory(traj):\n",
    "    builder = DiagramBuilder()\n",
    "    \n",
    "    scene_graph = builder.AddSystem(SceneGraph())\n",
    "    plant = MultibodyPlant(time_step=0.0)\n",
    "    plant.RegisterAsSourceForSceneGraph(scene_graph)\n",
    "    parser = Parser(plant)\n",
    "    parser.package_map().Add( \"wsg_50_description\", os.path.dirname(FindResourceOrThrow(\n",
    "                \"drake/manipulation/models/wsg_50_description/package.xml\")))\n",
    "\n",
    "    table_dim = np.array([4, 4, 0.2])\n",
    "    table = plant.AddRigidBody(\"table\", SpatialInertia(\n",
    "            mass=1.0, p_PScm_E=np.array([0., 0., 0.]), G_SP_E=UnitInertia(1.0, 1.0, 1.0)))\n",
    "    plant.WeldFrames(plant.world_frame(), table.body_frame(), RigidTransform(p=np.array([0, 0, -table_dim[2]/2])))\n",
    "    plant.RegisterVisualGeometry(table, RigidTransform(), Box(*table_dim), \"table_vis\",\n",
    "                                 np.array([0.5, 0.5, 0.5, 1.]))\n",
    "    plant.RegisterCollisionGeometry(table, RigidTransform(), Box(*table_dim), \"table_collision\",\n",
    "                                    CoulombFriction(0.9, 0.8))\n",
    "    \n",
    "    directives_file = FindResourceOrThrow(model_file)\n",
    "    directives = LoadModelDirectives(directives_file)\n",
    "    models = ProcessModelDirectives(directives, plant, parser)\n",
    "    \n",
    "    plant.Finalize()\n",
    "\n",
    "    to_pose = builder.AddSystem(MultibodyPositionToGeometryPose(plant))\n",
    "    builder.Connect(to_pose.get_output_port(), scene_graph.get_source_pose_port(plant.get_source_id()))\n",
    "\n",
    "    traj_system = builder.AddSystem(TrajectorySource(traj))\n",
    "    builder.Connect(traj_system.get_output_port(), to_pose.get_input_port())\n",
    "    \n",
    "    meshcat = ConnectMeshcatVisualizer(builder, scene_graph, zmq_url=zmq_url,\n",
    "                                       delete_prefix_on_load=False, role=viz_role)\n",
    "\n",
    "    vis_diagram = builder.Build()\n",
    "    simulator = Simulator(vis_diagram)\n",
    "    meshcat.start_recording()\n",
    "    simulator.AdvanceTo(traj.end_time())\n",
    "    meshcat.publish_recording()\n",
    "\n",
    "q_test = [0.4, 1.8, -0.5]\n",
    "traj = PiecewisePolynomial.FirstOrderHold([0, 3], np.array([[-0.2, -1.2, 1.6], q_test]).T)\n",
    "vis.delete()\n",
    "display(vis.jupyter_cell())\n",
    "visualize_trajectory(traj)"
   ]
  },
  {
   "cell_type": "markdown",
   "metadata": {},
   "source": [
    "# Use RRT to Plan Trajectory"
   ]
  },
  {
   "cell_type": "code",
   "execution_count": 18,
   "metadata": {},
   "outputs": [
    {
     "ename": "KeyboardInterrupt",
     "evalue": "",
     "output_type": "error",
     "traceback": [
      "\u001b[0;31m---------------------------------------------------------------------------\u001b[0m",
      "\u001b[0;31mKeyboardInterrupt\u001b[0m                         Traceback (most recent call last)",
      "\u001b[0;32m<ipython-input-18-d3d21ea7e1b2>\u001b[0m in \u001b[0;36m<module>\u001b[0;34m\u001b[0m\n\u001b[1;32m     80\u001b[0m \u001b[0mtermination_fn\u001b[0m \u001b[0;34m=\u001b[0m \u001b[0mMakeRRTTimeoutTerminationFunction\u001b[0m\u001b[0;34m(\u001b[0m\u001b[0msolve_timeout\u001b[0m\u001b[0;34m)\u001b[0m\u001b[0;34m\u001b[0m\u001b[0;34m\u001b[0m\u001b[0m\n\u001b[1;32m     81\u001b[0m \u001b[0;34m\u001b[0m\u001b[0m\n\u001b[0;32m---> 82\u001b[0;31m single_result = RRTPlanSinglePath(\n\u001b[0m\u001b[1;32m     83\u001b[0m     \u001b[0mtree\u001b[0m\u001b[0;34m=\u001b[0m\u001b[0mrrt_tree\u001b[0m\u001b[0;34m,\u001b[0m \u001b[0msampling_fn\u001b[0m\u001b[0;34m=\u001b[0m\u001b[0msampling_cspace\u001b[0m\u001b[0;34m,\u001b[0m\u001b[0;34m\u001b[0m\u001b[0;34m\u001b[0m\u001b[0m\n\u001b[1;32m     84\u001b[0m     \u001b[0mnearest_neighbor_fn\u001b[0m \u001b[0;34m=\u001b[0m\u001b[0mnearest_neighbor_fn\u001b[0m\u001b[0;34m,\u001b[0m\u001b[0;34m\u001b[0m\u001b[0;34m\u001b[0m\u001b[0m\n",
      "\u001b[0;32m<ipython-input-18-d3d21ea7e1b2>\u001b[0m in \u001b[0;36mdistance_fn\u001b[0;34m(q_1, q_2)\u001b[0m\n\u001b[1;32m     25\u001b[0m     \u001b[0mdiffs\u001b[0m \u001b[0;34m=\u001b[0m \u001b[0mnp\u001b[0m\u001b[0;34m.\u001b[0m\u001b[0marray\u001b[0m\u001b[0;34m(\u001b[0m\u001b[0mlist\u001b[0m\u001b[0;34m(\u001b[0m\u001b[0mmap\u001b[0m\u001b[0;34m(\u001b[0m\u001b[0;32mlambda\u001b[0m \u001b[0mq_i1\u001b[0m\u001b[0;34m,\u001b[0m \u001b[0mq_i2\u001b[0m\u001b[0;34m:\u001b[0m \u001b[0mdifference\u001b[0m\u001b[0;34m(\u001b[0m\u001b[0mq_i1\u001b[0m\u001b[0;34m,\u001b[0m \u001b[0mq_i2\u001b[0m\u001b[0;34m)\u001b[0m \u001b[0;34m,\u001b[0m\u001b[0mq_1\u001b[0m\u001b[0;34m,\u001b[0m \u001b[0mq_2\u001b[0m\u001b[0;34m)\u001b[0m\u001b[0;34m)\u001b[0m\u001b[0;34m)\u001b[0m\u001b[0;34m\u001b[0m\u001b[0;34m\u001b[0m\u001b[0m\n\u001b[1;32m     26\u001b[0m \u001b[0;34m\u001b[0m\u001b[0m\n\u001b[0;32m---> 27\u001b[0;31m     \u001b[0;32mreturn\u001b[0m \u001b[0mnp\u001b[0m\u001b[0;34m.\u001b[0m\u001b[0msqrt\u001b[0m\u001b[0;34m(\u001b[0m\u001b[0mnp\u001b[0m\u001b[0;34m.\u001b[0m\u001b[0msum\u001b[0m\u001b[0;34m(\u001b[0m\u001b[0mnp\u001b[0m\u001b[0;34m.\u001b[0m\u001b[0msquare\u001b[0m\u001b[0;34m(\u001b[0m\u001b[0mdiffs\u001b[0m\u001b[0;34m)\u001b[0m\u001b[0;34m)\u001b[0m\u001b[0;34m)\u001b[0m\u001b[0;34m\u001b[0m\u001b[0;34m\u001b[0m\u001b[0m\n\u001b[0m\u001b[1;32m     28\u001b[0m \u001b[0;34m\u001b[0m\u001b[0m\n\u001b[1;32m     29\u001b[0m \u001b[0;34m\u001b[0m\u001b[0m\n",
      "\u001b[0;32m<__array_function__ internals>\u001b[0m in \u001b[0;36msum\u001b[0;34m(*args, **kwargs)\u001b[0m\n",
      "\u001b[0;32m~/.local/lib/python3.8/site-packages/numpy-1.20.0rc2-py3.8-linux-x86_64.egg/numpy/core/fromnumeric.py\u001b[0m in \u001b[0;36msum\u001b[0;34m(a, axis, dtype, out, keepdims, initial, where)\u001b[0m\n\u001b[1;32m   2245\u001b[0m         \u001b[0;32mreturn\u001b[0m \u001b[0mres\u001b[0m\u001b[0;34m\u001b[0m\u001b[0;34m\u001b[0m\u001b[0m\n\u001b[1;32m   2246\u001b[0m \u001b[0;34m\u001b[0m\u001b[0m\n\u001b[0;32m-> 2247\u001b[0;31m     return _wrapreduction(a, np.add, 'sum', axis, dtype, out, keepdims=keepdims,\n\u001b[0m\u001b[1;32m   2248\u001b[0m                           initial=initial, where=where)\n\u001b[1;32m   2249\u001b[0m \u001b[0;34m\u001b[0m\u001b[0m\n",
      "\u001b[0;32m~/.local/lib/python3.8/site-packages/numpy-1.20.0rc2-py3.8-linux-x86_64.egg/numpy/core/fromnumeric.py\u001b[0m in \u001b[0;36m_wrapreduction\u001b[0;34m(obj, ufunc, method, axis, dtype, out, **kwargs)\u001b[0m\n\u001b[1;32m     85\u001b[0m                 \u001b[0;32mreturn\u001b[0m \u001b[0mreduction\u001b[0m\u001b[0;34m(\u001b[0m\u001b[0maxis\u001b[0m\u001b[0;34m=\u001b[0m\u001b[0maxis\u001b[0m\u001b[0;34m,\u001b[0m \u001b[0mout\u001b[0m\u001b[0;34m=\u001b[0m\u001b[0mout\u001b[0m\u001b[0;34m,\u001b[0m \u001b[0;34m**\u001b[0m\u001b[0mpasskwargs\u001b[0m\u001b[0;34m)\u001b[0m\u001b[0;34m\u001b[0m\u001b[0;34m\u001b[0m\u001b[0m\n\u001b[1;32m     86\u001b[0m \u001b[0;34m\u001b[0m\u001b[0m\n\u001b[0;32m---> 87\u001b[0;31m     \u001b[0;32mreturn\u001b[0m \u001b[0mufunc\u001b[0m\u001b[0;34m.\u001b[0m\u001b[0mreduce\u001b[0m\u001b[0;34m(\u001b[0m\u001b[0mobj\u001b[0m\u001b[0;34m,\u001b[0m \u001b[0maxis\u001b[0m\u001b[0;34m,\u001b[0m \u001b[0mdtype\u001b[0m\u001b[0;34m,\u001b[0m \u001b[0mout\u001b[0m\u001b[0;34m,\u001b[0m \u001b[0;34m**\u001b[0m\u001b[0mpasskwargs\u001b[0m\u001b[0;34m)\u001b[0m\u001b[0;34m\u001b[0m\u001b[0;34m\u001b[0m\u001b[0m\n\u001b[0m\u001b[1;32m     88\u001b[0m \u001b[0;34m\u001b[0m\u001b[0m\n\u001b[1;32m     89\u001b[0m \u001b[0;34m\u001b[0m\u001b[0m\n",
      "\u001b[0;31mKeyboardInterrupt\u001b[0m: "
     ]
    }
   ],
   "source": [
    "q_start = np.array([0.5, -1.2, 0])\n",
    "q_end = np.array([0.8, -1.6, -0.9])\n",
    "\n",
    "goal_bias = 0.05\n",
    "step_size = np.pi/16\n",
    "collision_step_size = step_size/4\n",
    "solve_timeout = 100\n",
    "\n",
    "plant_context_planning = plant.GetMyContextFromRoot(context)\n",
    "\n",
    "\n",
    "def sampling_cspace():\n",
    "    if np.random.rand() < goal_bias:\n",
    "        return q_end\n",
    "    # we have no joint limits imposed. Thus each joint can move between 0 and 2*pi\n",
    "    return np.array([np.random.rand()*2*np.pi for _ in range(3)])\n",
    "\n",
    "def check_goal_fn(q):\n",
    "    return np.linalg.norm(q_end - q) < 1e-6\n",
    "\n",
    "def difference(q_target, q_source):\n",
    "    return (q_target - q_source + np.pi) % (2*np.pi) - np.pi\n",
    "\n",
    "def distance_fn(q_1, q_2):\n",
    "    diffs = np.array(list(map(lambda q_i1, q_i2: difference(q_i1, q_i2) ,q_1, q_2)))\n",
    "    \n",
    "    return np.sqrt(np.sum(np.square(diffs)))\n",
    "\n",
    "\n",
    "def check_state_validity_fn(point):\n",
    "    #check for collisions\n",
    "    plant.SetPositions(plant_context_planning, point)\n",
    "    query_object = plant.get_geometry_query_input_port().Eval(plant_context_planning)\n",
    "    \n",
    "    return not query_object.HasCollisions()\n",
    "\n",
    "        \n",
    "        \n",
    "def check_edge_validity_fn(start, end):\n",
    "    #use first order interpolation to check collisions along a path between start and end\n",
    "    def checkEdgeCollisionFree(start, end, stepsize):\n",
    "        num_steps = np.ceil(distance_fn(start, end)/stepsize)\n",
    "\n",
    "        for step in range(int(num_steps)+1):\n",
    "            interpolation_ratio = step / num_steps\n",
    "            interpolated_point = start + np.round(interpolation_ratio*(end-start))\n",
    "            \n",
    "            if not check_state_validity_fn(interpolated_point):\n",
    "                return False\n",
    "\n",
    "        return True\n",
    "\n",
    "    return (checkEdgeCollisionFree(start, end, collision_step_size/2)\n",
    "            and checkEdgeCollisionFree(end, start, collision_step_size/2))\n",
    "\n",
    "def extend_fn(nearest, sample, is_start_tree = None):\n",
    "    extend = None\n",
    "    extend_dist = distance_fn(nearest, sample)\n",
    "    \n",
    "    if extend_dist <= step_size:\n",
    "        extend = sample\n",
    "    else:\n",
    "        extend = nearest + step_size/extend_dist * (sample - nearest)\n",
    "    \n",
    "    extend = difference(extend, nearest) + nearest #ensure that shortest rotation path will be taken\n",
    "    \n",
    "    if not check_edge_validity_fn(nearest, extend):\n",
    "        return []\n",
    "    \n",
    "    return [PropagatedState(state=extend, relative_parent_index=-1)]\n",
    "    \n",
    "    \n",
    "    \n",
    "\n",
    "rrt_tree = [SimpleRRTPlannerState(q_start)]\n",
    "\n",
    "\n",
    "nearest_neighbor_fn = MakeKinematicLinearRRTNearestNeighborsFunction(distance_fn=distance_fn, use_parallel = False)\n",
    "\n",
    "termination_fn = MakeRRTTimeoutTerminationFunction(solve_timeout)\n",
    "\n",
    "single_result = RRTPlanSinglePath(\n",
    "    tree=rrt_tree, sampling_fn=sampling_cspace,\n",
    "    nearest_neighbor_fn =nearest_neighbor_fn,\n",
    "    forward_propagation_fn=extend_fn,\n",
    "    state_added_callback_fn=None,\n",
    "    check_goal_reached_fn=check_goal_fn, goal_reached_callback_fn=None,\n",
    "    termination_check_fn=termination_fn)\n",
    "\n",
    "path = single_result.Path()\n",
    "\n",
    "print(path)\n",
    "\n",
    "rrt_traj = PiecewisePolynomial.FirstOrderHold(list(range(len(path))), np.stack(path).T) \n",
    "\n",
    "vis.delete()\n",
    "display(vis.jupyter_cell())\n",
    "visualize_trajectory(rrt_traj)"
   ]
  },
  {
   "cell_type": "markdown",
   "metadata": {},
   "source": [
    "# Use Bi-RRT to Plan Trajectory"
   ]
  },
  {
   "cell_type": "code",
   "execution_count": 7,
   "metadata": {},
   "outputs": [
    {
     "name": "stderr",
     "output_type": "stream",
     "text": [
      "<ipython-input-6-780fd1b583e1>:35: RuntimeWarning: invalid value encountered in double_scalars\n",
      "  interpolation_ratio = step / num_steps\n"
     ]
    }
   ],
   "source": [
    "# Reuse single RRT functions, but need to add connect\n",
    "seed = 0\n",
    "step_size = np.pi/32\n",
    "collision_step_size = step_size/128\n",
    "\n",
    "def connect_fn(nearest, sample, is_start_tree):\n",
    "    total_dist = distance_fn(nearest, sample)\n",
    "    total_steps = int(np.ceil(total_dist / step_size))        \n",
    "        \n",
    "    propagated_states = []\n",
    "    parent_offset = -1\n",
    "    current = nearest\n",
    "    for steps in range(total_steps):\n",
    "        current_target = None\n",
    "        target_dist = distance_fn(current, sample)\n",
    "        if target_dist > step_size:\n",
    "            #interpolate\n",
    "            current_target = current + step_size/target_dist * (sample - current)\n",
    "            \n",
    "        elif target_dist < 1e-6:\n",
    "            break\n",
    "        else:\n",
    "            current_target = sample\n",
    "        \n",
    "        current_target = difference(current_target, current) + current #ensure that shortest rotation path will be taken\n",
    "\n",
    "        if not check_edge_validity_fn(current, current_target):\n",
    "            return propagated_states\n",
    "    \n",
    "                    \n",
    "        propagated_states.append(PropagatedState(state=current_target, relative_parent_index=parent_offset))\n",
    "        parent_offset += 1\n",
    "        current = current_target\n",
    "\n",
    "    return propagated_states\n",
    "        \n",
    "        \n",
    "def states_connected_fn(source, target, is_start_tree):\n",
    "    return np.linalg.norm(source - target) < 1e-6\n",
    "        \n",
    "start_tree = [SimpleRRTPlannerState(q_start)]\n",
    "end_tree = [SimpleRRTPlannerState(q_end)]\n",
    "\n",
    "\n",
    "nearest_neighbor_fn = MakeKinematicLinearBiRRTNearestNeighborsFunction(distance_fn=distance_fn, use_parallel = False)\n",
    "\n",
    "termination_fn = MakeBiRRTTimeoutTerminationFunction(solve_timeout)\n",
    "\n",
    "extend_result = BiRRTPlanSinglePath(\n",
    "    start_tree=start_tree, goal_tree=end_tree,\n",
    "    state_sampling_fn=sampling_cspace,\n",
    "    nearest_neighbor_fn=nearest_neighbor_fn, propagation_fn=extend_fn,\n",
    "    state_added_callback_fn=None,\n",
    "    states_connected_fn=states_connected_fn,\n",
    "    goal_bridge_callback_fn=None,\n",
    "    tree_sampling_bias=0.5, p_switch_tree=0.25,\n",
    "    termination_check_fn=termination_fn, rng=RandomGenerator(seed))\n",
    "\n",
    "connect_result = BiRRTPlanSinglePath(\n",
    "    start_tree=start_tree, goal_tree=end_tree,\n",
    "    state_sampling_fn=sampling_cspace,\n",
    "    nearest_neighbor_fn=nearest_neighbor_fn, propagation_fn=connect_fn,\n",
    "    state_added_callback_fn=None,\n",
    "    states_connected_fn=states_connected_fn,\n",
    "    goal_bridge_callback_fn=None,\n",
    "    tree_sampling_bias=0.5, p_switch_tree=0.25,\n",
    "    termination_check_fn=termination_fn, rng=RandomGenerator(seed))\n",
    "\n",
    "extend_path = extend_result.Path()\n",
    "connect_path = connect_result.Path()"
   ]
  },
  {
   "cell_type": "code",
   "execution_count": 12,
   "metadata": {},
   "outputs": [
    {
     "data": {
      "text/html": [
       "\n",
       "            <div style=\"height: 400px; width: 100%; overflow-x: auto; overflow-y: hidden; resize: both\">\n",
       "            <iframe src=\"http://127.0.0.1:7010/static/\" style=\"width: 100%; height: 100%; border: none\"></iframe>\n",
       "            </div>\n",
       "            "
      ],
      "text/plain": [
       "<IPython.core.display.HTML object>"
      ]
     },
     "metadata": {},
     "output_type": "display_data"
    },
    {
     "name": "stdout",
     "output_type": "stream",
     "text": [
      "Connecting to meshcat-server at zmq_url=tcp://127.0.0.1:6001...\n",
      "You can open the visualizer by visiting the following URL:\n",
      "http://127.0.0.1:7010/static/\n",
      "Connected to meshcat-server.\n"
     ]
    }
   ],
   "source": [
    "birrt_traj = PiecewisePolynomial.FirstOrderHold(list(range(len(connect_path))), np.stack(connect_path).T) \n",
    "#birrt_traj = PiecewisePolynomial.FirstOrderHold(list(range(len(extend_path))), np.stack(extend_path).T) \n",
    "\n",
    "vis.delete()\n",
    "display(vis.jupyter_cell())\n",
    "visualize_trajectory(birrt_traj)"
   ]
  },
  {
   "cell_type": "markdown",
   "metadata": {},
   "source": [
    "## Use PRM to Plan Trajectory"
   ]
  },
  {
   "cell_type": "code",
   "execution_count": 23,
   "metadata": {},
   "outputs": [],
   "source": [
    "K = 10\n",
    "roadmap_size = 2000\n",
    "\n",
    "def prm_sampling_fn():\n",
    "    return np.array([np.random.rand()*2*np.pi for _ in range(3)])\n",
    "\n",
    "def roadmap_termination_fn(current_roadmap_size):\n",
    "    return current_roadmap_size >= roadmap_size\n",
    "\n",
    "roadmap = Graph()\n",
    "\n",
    "GrowRoadMap(roadmap, prm_sampling_fn, distance_fn,\n",
    "            check_state_validity_fn, check_edge_validity_fn,\n",
    "            roadmap_termination_fn, K, False, True, False)\n",
    "\n",
    "UpdateRoadMapEdges(roadmap, check_edge_validity_fn, distance_fn, False)\n",
    "\n",
    "prm_path = QueryPath([q_start], [q_end], roadmap, distance_fn,\n",
    "                check_edge_validity_fn, K,\n",
    "                use_parallel=False,\n",
    "                distance_is_symmetric=True,\n",
    "                add_duplicate_states=False,\n",
    "                limit_astar_pqueue_duplicates=True).Path()"
   ]
  },
  {
   "cell_type": "code",
   "execution_count": 24,
   "metadata": {},
   "outputs": [
    {
     "data": {
      "text/plain": [
       "[]"
      ]
     },
     "execution_count": 24,
     "metadata": {},
     "output_type": "execute_result"
    }
   ],
   "source": [
    "prm_path"
   ]
  }
 ],
 "metadata": {
  "kernelspec": {
   "display_name": "Python 3",
   "language": "python",
   "name": "python3"
  },
  "language_info": {
   "codemirror_mode": {
    "name": "ipython",
    "version": 3
   },
   "file_extension": ".py",
   "mimetype": "text/x-python",
   "name": "python",
   "nbconvert_exporter": "python",
   "pygments_lexer": "ipython3",
   "version": "3.8.10"
  }
 },
 "nbformat": 4,
 "nbformat_minor": 2
}
