{
 "cells": [
  {
   "cell_type": "code",
   "execution_count": 33,
   "metadata": {},
   "outputs": [
    {
     "name": "stdout",
     "output_type": "stream",
     "text": [
      "The autoreload extension is already loaded. To reload it, use:\n",
      "  %reload_ext autoreload\n"
     ]
    }
   ],
   "source": [
    "%load_ext autoreload\n",
    "%autoreload 2\n",
    "\n",
    "import os\n",
    "import time\n",
    "import numpy as np\n",
    "\n",
    "from pydrake.common import FindResourceOrThrow\n",
    "from pydrake.geometry import Box, Role, SceneGraph\n",
    "from pydrake.math import RigidTransform\n",
    "from pydrake.multibody.parsing import LoadModelDirectives, Parser, ProcessModelDirectives\n",
    "from pydrake.multibody.plant import CoulombFriction, AddMultibodyPlantSceneGraph, MultibodyPlant\n",
    "from pydrake.multibody.tree import RevoluteJoint, SpatialInertia, UnitInertia\n",
    "from pydrake.systems.analysis import Simulator\n",
    "from pydrake.systems.framework import DiagramBuilder\n",
    "from pydrake.systems.meshcat_visualizer import ConnectMeshcatVisualizer\n",
    "from pydrake.systems.primitives import TrajectorySource\n",
    "from pydrake.systems.rendering import MultibodyPositionToGeometryPose\n",
    "from pydrake.trajectories import PiecewisePolynomial, BsplineTrajectory\n",
    "from pydrake.math import BsplineBasis\n",
    "\n",
    "from pydrake.planning.common_robotics_utilities import (\n",
    "    MakeKinematicLinearRRTNearestNeighborsFunction,\n",
    "    MakeKinematicLinearBiRRTNearestNeighborsFunction,\n",
    "    MakeRRTTimeoutTerminationFunction,\n",
    "    MakeBiRRTTimeoutTerminationFunction,\n",
    "    PropagatedState,\n",
    "    RRTPlanSinglePath,\n",
    "    BiRRTPlanSinglePath,\n",
    "    SimpleRRTPlannerState)\n",
    "\n",
    "from meshcat import Visualizer"
   ]
  },
  {
   "cell_type": "code",
   "execution_count": 17,
   "metadata": {},
   "outputs": [
    {
     "name": "stdout",
     "output_type": "stream",
     "text": [
      "You can open the visualizer by visiting the following URL:\n",
      "http://127.0.0.1:7011/static/\n"
     ]
    }
   ],
   "source": [
    "# Setup meshcat\n",
    "from meshcat.servers.zmqserver import start_zmq_server_as_subprocess\n",
    "proc, zmq_url, web_url = start_zmq_server_as_subprocess(server_args=[])\n",
    "vis = Visualizer(zmq_url=zmq_url)\n",
    "\n",
    "# Sporadically need to run `pkill -f meshcat`"
   ]
  },
  {
   "cell_type": "markdown",
   "metadata": {},
   "source": [
    "# Visualize Model"
   ]
  },
  {
   "cell_type": "code",
   "execution_count": 18,
   "metadata": {},
   "outputs": [],
   "source": [
    "model_file = \"drake/planning/models/planar_iiwa_dense_collision_welded_gripper.yaml\"\n",
    "# model_file = \"drake/planning/models/planar_iiwa_simple_collision_welded_gripper.yaml\"\n",
    "\n",
    "viz_role = Role.kIllustration\n",
    "# viz_role = Role.kProximity"
   ]
  },
  {
   "cell_type": "code",
   "execution_count": 4,
   "metadata": {},
   "outputs": [
    {
     "data": {
      "text/html": [
       "\n",
       "            <div style=\"height: 400px; width: 100%; overflow-x: auto; overflow-y: hidden; resize: both\">\n",
       "            <iframe src=\"http://127.0.0.1:7010/static/\" style=\"width: 100%; height: 100%; border: none\"></iframe>\n",
       "            </div>\n",
       "            "
      ],
      "text/plain": [
       "<IPython.core.display.HTML object>"
      ]
     },
     "metadata": {},
     "output_type": "display_data"
    },
    {
     "name": "stdout",
     "output_type": "stream",
     "text": [
      "Connecting to meshcat-server at zmq_url=tcp://127.0.0.1:6001...\n",
      "You can open the visualizer by visiting the following URL:\n",
      "http://127.0.0.1:7010/static/\n",
      "Connected to meshcat-server.\n"
     ]
    }
   ],
   "source": [
    "vis.delete()\n",
    "display(vis.jupyter_cell())\n",
    "\n",
    "builder = DiagramBuilder()\n",
    "plant, scene_graph = AddMultibodyPlantSceneGraph(builder, time_step=0.0)\n",
    "parser = Parser(plant)\n",
    "parser.package_map().Add( \"wsg_50_description\", os.path.dirname(FindResourceOrThrow(\n",
    "            \"drake/manipulation/models/wsg_50_description/package.xml\")))\n",
    "\n",
    "table_dim = np.array([4, 4, 0.2])\n",
    "table = plant.AddRigidBody(\"table\", SpatialInertia(\n",
    "        mass=1.0, p_PScm_E=np.array([0., 0., 0.]), G_SP_E=UnitInertia(1.0, 1.0, 1.0)))\n",
    "plant.WeldFrames(plant.world_frame(), table.body_frame(), RigidTransform(p=np.array([0, 0, -table_dim[2]/2])))\n",
    "plant.RegisterVisualGeometry(table, RigidTransform(), Box(*table_dim), \"table_vis\",\n",
    "                             np.array([0.5, 0.5, 0.5, 1.]))\n",
    "plant.RegisterCollisionGeometry(table, RigidTransform(), Box(*table_dim), \"table_collision\",\n",
    "                                CoulombFriction(0.9, 0.8))\n",
    "\n",
    "directives_file = FindResourceOrThrow(model_file)\n",
    "directives = LoadModelDirectives(directives_file)\n",
    "models = ProcessModelDirectives(directives, plant, parser)\n",
    "[iiwa, wsg, shelves] = models\n",
    "\n",
    "plant.Finalize()\n",
    "\n",
    "visualizer = ConnectMeshcatVisualizer(builder, scene_graph, zmq_url=zmq_url,\n",
    "                                      delete_prefix_on_load=False, role=viz_role)\n",
    "diagram = builder.Build()\n",
    "\n",
    "q0 = [-0.2, -1.2, 1.6]\n",
    "index = 0\n",
    "for joint_index in plant.GetJointIndices(iiwa.model_instance):\n",
    "    joint = plant.get_mutable_joint(joint_index)\n",
    "    if isinstance(joint, RevoluteJoint):\n",
    "        joint.set_default_angle(q0[index])\n",
    "        index += 1\n",
    "\n",
    "visualizer.load()\n",
    "context = diagram.CreateDefaultContext()\n",
    "plant_context = plant.GetMyContextFromRoot(context)\n",
    "sg_context = scene_graph.GetMyContextFromRoot(context)\n",
    "diagram.Publish(context)"
   ]
  },
  {
   "cell_type": "markdown",
   "metadata": {},
   "source": [
    "# Use RRT to Plan Trajectory"
   ]
  },
  {
   "cell_type": "code",
   "execution_count": 24,
   "metadata": {},
   "outputs": [],
   "source": [
    "q_start = np.array(q0)\n",
    "q_end = np.array([0,0,0])\n",
    "goal_bias = 0.05\n",
    "step_size = np.pi/8\n",
    "\n",
    "\n",
    "def sampling_cspace():\n",
    "    if np.random.rand() < goal_bias:\n",
    "        return q_end\n",
    "    # we have no joint limits imposed. Thus each joint can move between 0 and 2*pi\n",
    "    return np.array([np.random.rand()*2*np.pi for _ in range(3)])\n",
    "\n",
    "def check_goal_fn(q):\n",
    "    return np.linalg.norm(q_end - q) < 1e-6\n",
    "\n",
    "def distance_fn(q_1, q_2):\n",
    "    def difference(q_i1, q_i2): # difference (with wraparound)\n",
    "        return np.pi - abs(abs(q_i1 - q_i2) - np.pi)\n",
    "    \n",
    "    diffs = np.array(list(map(lambda q_i1, q_i2: difference(q_i1, q_i2) ,q_1, q_2)))\n",
    "    \n",
    "    return np.sqrt(np.sum(np.square(diffs)))\n",
    "\n",
    "def extend_fn(nearest, sample):\n",
    "    \n",
    "    extend = None\n",
    "    extend_dist = distance_fn(nearest, sample)\n",
    "    \n",
    "    if extend_dist <= step_size:\n",
    "        extend = sample\n",
    "    else:\n",
    "        extend = nearest + step_size/extend_dist * (sample - nearest)\n",
    "    \n",
    "    check_dist = distance_fn(nearest, extend)\n",
    "    #TODO\n",
    "    #check for collsion \n",
    "    #if collsion detected return []\n",
    "    \n",
    "    return [PropagatedState(state=extend, relative_parent_index=-1)]\n",
    "    \n",
    "    \n",
    "    \n",
    "\n",
    "rrt_tree = [SimpleRRTPlannerState(q_start)]\n",
    "\n",
    "\n",
    "nearest_neighbor_fn = MakeKinematicLinearRRTNearestNeighborsFunction(distance_fn=distance_fn, use_parallel = False)\n",
    "\n",
    "termination_fn = MakeRRTTimeoutTerminationFunction(100)\n",
    "\n",
    "single_result = RRTPlanSinglePath(\n",
    "    tree=rrt_tree, sampling_fn=sampling_cspace,\n",
    "    nearest_neighbor_fn =nearest_neighbor_fn,\n",
    "    forward_propagation_fn=extend_fn,\n",
    "    state_added_callback_fn=None,\n",
    "    check_goal_reached_fn=check_goal_fn, goal_reached_callback_fn=None,\n",
    "    termination_check_fn=termination_fn)\n",
    "\n",
    "path = single_result.Path()"
   ]
  },
  {
   "cell_type": "code",
   "execution_count": 44,
   "metadata": {},
   "outputs": [],
   "source": [
    "PiecewisePolynomial(np.stack(path).T) "
   ]
  },
  {
   "cell_type": "markdown",
   "metadata": {},
   "source": [
    "# Visualize Trajectory"
   ]
  },
  {
   "cell_type": "code",
   "execution_count": 43,
   "metadata": {},
   "outputs": [
    {
     "data": {
      "text/html": [
       "\n",
       "            <div style=\"height: 400px; width: 100%; overflow-x: auto; overflow-y: hidden; resize: both\">\n",
       "            <iframe src=\"http://127.0.0.1:7011/static/\" style=\"width: 100%; height: 100%; border: none\"></iframe>\n",
       "            </div>\n",
       "            "
      ],
      "text/plain": [
       "<IPython.core.display.HTML object>"
      ]
     },
     "metadata": {},
     "output_type": "display_data"
    },
    {
     "name": "stdout",
     "output_type": "stream",
     "text": [
      "Connecting to meshcat-server at zmq_url=tcp://127.0.0.1:6002...\n",
      "You can open the visualizer by visiting the following URL:\n",
      "http://127.0.0.1:7011/static/\n",
      "Connected to meshcat-server.\n"
     ]
    }
   ],
   "source": [
    "def visualize_trajectory(traj):\n",
    "    builder = DiagramBuilder()\n",
    "    \n",
    "    scene_graph = builder.AddSystem(SceneGraph())\n",
    "    plant = MultibodyPlant(time_step=0.0)\n",
    "    plant.RegisterAsSourceForSceneGraph(scene_graph)\n",
    "    parser = Parser(plant)\n",
    "    parser.package_map().Add( \"wsg_50_description\", os.path.dirname(FindResourceOrThrow(\n",
    "                \"drake/manipulation/models/wsg_50_description/package.xml\")))\n",
    "\n",
    "    table_dim = np.array([4, 4, 0.2])\n",
    "    table = plant.AddRigidBody(\"table\", SpatialInertia(\n",
    "            mass=1.0, p_PScm_E=np.array([0., 0., 0.]), G_SP_E=UnitInertia(1.0, 1.0, 1.0)))\n",
    "    plant.WeldFrames(plant.world_frame(), table.body_frame(), RigidTransform(p=np.array([0, 0, -table_dim[2]/2])))\n",
    "    plant.RegisterVisualGeometry(table, RigidTransform(), Box(*table_dim), \"table_vis\",\n",
    "                                 np.array([0.5, 0.5, 0.5, 1.]))\n",
    "    plant.RegisterCollisionGeometry(table, RigidTransform(), Box(*table_dim), \"table_collision\",\n",
    "                                    CoulombFriction(0.9, 0.8))\n",
    "    \n",
    "    directives_file = FindResourceOrThrow(model_file)\n",
    "    directives = LoadModelDirectives(directives_file)\n",
    "    models = ProcessModelDirectives(directives, plant, parser)\n",
    "    \n",
    "    plant.Finalize()\n",
    "\n",
    "    to_pose = builder.AddSystem(MultibodyPositionToGeometryPose(plant))\n",
    "    builder.Connect(to_pose.get_output_port(), scene_graph.get_source_pose_port(plant.get_source_id()))\n",
    "\n",
    "    traj_system = builder.AddSystem(TrajectorySource(traj))\n",
    "    builder.Connect(traj_system.get_output_port(), to_pose.get_input_port())\n",
    "    \n",
    "    meshcat = ConnectMeshcatVisualizer(builder, scene_graph, zmq_url=zmq_url,\n",
    "                                       delete_prefix_on_load=False, role=viz_role)\n",
    "\n",
    "    vis_diagram = builder.Build()\n",
    "    simulator = Simulator(vis_diagram)\n",
    "    meshcat.start_recording()\n",
    "    simulator.AdvanceTo(traj.end_time())\n",
    "    meshcat.publish_recording()\n",
    "    \n",
    "traj = PiecewisePolynomial.FirstOrderHold([0, 3], np.array([[-0.2, -1.2, 1.6], [0.4, 1.8, -0.5]]).T)\n",
    "\n",
    "vis.delete()\n",
    "display(vis.jupyter_cell())\n",
    "visualize_trajectory(traj)"
   ]
  }
 ],
 "metadata": {
  "kernelspec": {
   "display_name": "Python 3",
   "language": "python",
   "name": "python3"
  },
  "language_info": {
   "codemirror_mode": {
    "name": "ipython",
    "version": 3
   },
   "file_extension": ".py",
   "mimetype": "text/x-python",
   "name": "python",
   "nbconvert_exporter": "python",
   "pygments_lexer": "ipython3",
   "version": "3.8.10"
  }
 },
 "nbformat": 4,
 "nbformat_minor": 2
}
