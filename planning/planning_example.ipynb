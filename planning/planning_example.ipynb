{
 "cells": [
  {
   "cell_type": "code",
   "execution_count": 1,
   "metadata": {},
   "outputs": [],
   "source": [
    "%load_ext autoreload\n",
    "%autoreload 2\n",
    "\n",
    "import os\n",
    "import time\n",
    "import numpy as np\n",
    "from itertools import combinations\n",
    "\n",
    "from pydrake.common import FindResourceOrThrow, RandomGenerator\n",
    "from pydrake.geometry import Box, Role, SceneGraph\n",
    "from pydrake.math import RigidTransform\n",
    "from pydrake.multibody.parsing import LoadModelDirectives, Parser, ProcessModelDirectives\n",
    "from pydrake.multibody.plant import CoulombFriction, AddMultibodyPlantSceneGraph, MultibodyPlant\n",
    "from pydrake.multibody.tree import RevoluteJoint, SpatialInertia, UnitInertia\n",
    "from pydrake.systems.analysis import Simulator\n",
    "from pydrake.systems.framework import DiagramBuilder\n",
    "from pydrake.systems.meshcat_visualizer import ConnectMeshcatVisualizer\n",
    "from pydrake.systems.primitives import TrajectorySource\n",
    "from pydrake.systems.rendering import MultibodyPositionToGeometryPose\n",
    "from pydrake.trajectories import PiecewisePolynomial\n",
    "\n",
    "from pydrake.planning.common_robotics_utilities import (\n",
    "    MakeKinematicLinearRRTNearestNeighborsFunction,\n",
    "    MakeKinematicLinearBiRRTNearestNeighborsFunction,\n",
    "    MakeRRTTimeoutTerminationFunction,\n",
    "    MakeBiRRTTimeoutTerminationFunction,\n",
    "    PropagatedState,\n",
    "    RRTPlanSinglePath,\n",
    "    BiRRTPlanSinglePath,\n",
    "    SimpleRRTPlannerState,\n",
    "    Graph, GraphNode,\n",
    "    GrowRoadMap,\n",
    "    UpdateRoadMapEdges,\n",
    "    QueryPath,\n",
    "    LazyQueryPath,\n",
    "    AddNodeToRoadmap,\n",
    "    NNDistanceDirection)\n",
    "\n",
    "from meshcat import Visualizer"
   ]
  },
  {
   "cell_type": "code",
   "execution_count": 2,
   "metadata": {},
   "outputs": [
    {
     "name": "stdout",
     "output_type": "stream",
     "text": [
      "You can open the visualizer by visiting the following URL:\n",
      "http://127.0.0.1:7004/static/\n"
     ]
    }
   ],
   "source": [
    "# Setup meshcat\n",
    "from meshcat.servers.zmqserver import start_zmq_server_as_subprocess\n",
    "proc, zmq_url, web_url = start_zmq_server_as_subprocess(server_args=[])\n",
    "vis = Visualizer(zmq_url=zmq_url)\n",
    "\n",
    "# Sporadically need to run `pkill -f meshcat`"
   ]
  },
  {
   "cell_type": "markdown",
   "metadata": {},
   "source": [
    "# Visualize Model"
   ]
  },
  {
   "cell_type": "code",
   "execution_count": 3,
   "metadata": {},
   "outputs": [],
   "source": [
    "model_file = \"drake/planning/models/planar_iiwa_dense_collision_welded_gripper.yaml\"\n",
    "# model_file = \"drake/planning/models/planar_iiwa_simple_collision_welded_gripper.yaml\"\n",
    "\n",
    "viz_role = Role.kIllustration\n",
    "# viz_role = Role.kProximity"
   ]
  },
  {
   "cell_type": "code",
   "execution_count": 4,
   "metadata": {},
   "outputs": [
    {
     "data": {
      "text/html": [
       "\n",
       "            <div style=\"height: 400px; width: 100%; overflow-x: auto; overflow-y: hidden; resize: both\">\n",
       "            <iframe src=\"http://127.0.0.1:7004/static/\" style=\"width: 100%; height: 100%; border: none\"></iframe>\n",
       "            </div>\n",
       "            "
      ],
      "text/plain": [
       "<IPython.core.display.HTML object>"
      ]
     },
     "metadata": {},
     "output_type": "display_data"
    },
    {
     "name": "stdout",
     "output_type": "stream",
     "text": [
      "Connecting to meshcat-server at zmq_url=tcp://127.0.0.1:6001...\n",
      "You can open the visualizer by visiting the following URL:\n",
      "http://127.0.0.1:7004/static/\n",
      "Connected to meshcat-server.\n"
     ]
    }
   ],
   "source": [
    "vis.delete()\n",
    "display(vis.jupyter_cell())\n",
    "\n",
    "builder = DiagramBuilder()\n",
    "plant, scene_graph = AddMultibodyPlantSceneGraph(builder, time_step=0.0)\n",
    "parser = Parser(plant)\n",
    "parser.package_map().Add( \"wsg_50_description\", os.path.dirname(FindResourceOrThrow(\n",
    "            \"drake/manipulation/models/wsg_50_description/package.xml\")))\n",
    "\n",
    "table_dim = np.array([4, 4, 0.2])\n",
    "table = plant.AddRigidBody(\"table\", SpatialInertia(\n",
    "        mass=1.0, p_PScm_E=np.array([0., 0., 0.]), G_SP_E=UnitInertia(1.0, 1.0, 1.0)))\n",
    "plant.WeldFrames(plant.world_frame(), table.body_frame(), RigidTransform(p=np.array([0, 0, -table_dim[2]/2])))\n",
    "plant.RegisterVisualGeometry(table, RigidTransform(), Box(*table_dim), \"table_vis\",\n",
    "                             np.array([0.5, 0.5, 0.5, 1.]))\n",
    "plant.RegisterCollisionGeometry(table, RigidTransform(), Box(*table_dim), \"table_collision\",\n",
    "                                CoulombFriction(0.9, 0.8))\n",
    "\n",
    "directives_file = FindResourceOrThrow(model_file)\n",
    "directives = LoadModelDirectives(directives_file)\n",
    "models = ProcessModelDirectives(directives, plant, parser)\n",
    "[iiwa, wsg, shelves] = models\n",
    "\n",
    "plant.Finalize()\n",
    "\n",
    "visualizer = ConnectMeshcatVisualizer(builder, scene_graph, zmq_url=zmq_url,\n",
    "                                      delete_prefix_on_load=False, role=viz_role)\n",
    "diagram = builder.Build()\n",
    "\n",
    "q0 = [-0.2, -1.2, 1.6]\n",
    "index = 0\n",
    "for joint_index in plant.GetJointIndices(iiwa.model_instance):\n",
    "    joint = plant.get_mutable_joint(joint_index)\n",
    "    if isinstance(joint, RevoluteJoint):\n",
    "        joint.set_default_angle(q0[index])\n",
    "        index += 1\n",
    "\n",
    "visualizer.load()\n",
    "context = diagram.CreateDefaultContext()\n",
    "plant_context = plant.GetMyContextFromRoot(context)\n",
    "sg_context = scene_graph.GetMyContextFromRoot(context)\n",
    "diagram.Publish(context)"
   ]
  },
  {
   "cell_type": "markdown",
   "metadata": {},
   "source": [
    "# Visualize Trajectory"
   ]
  },
  {
   "cell_type": "code",
   "execution_count": 5,
   "metadata": {
    "scrolled": false
   },
   "outputs": [
    {
     "data": {
      "text/html": [
       "\n",
       "            <div style=\"height: 400px; width: 100%; overflow-x: auto; overflow-y: hidden; resize: both\">\n",
       "            <iframe src=\"http://127.0.0.1:7004/static/\" style=\"width: 100%; height: 100%; border: none\"></iframe>\n",
       "            </div>\n",
       "            "
      ],
      "text/plain": [
       "<IPython.core.display.HTML object>"
      ]
     },
     "metadata": {},
     "output_type": "display_data"
    },
    {
     "name": "stdout",
     "output_type": "stream",
     "text": [
      "Connecting to meshcat-server at zmq_url=tcp://127.0.0.1:6001...\n",
      "You can open the visualizer by visiting the following URL:\n",
      "http://127.0.0.1:7004/static/\n",
      "Connected to meshcat-server.\n"
     ]
    }
   ],
   "source": [
    "def visualize_trajectory(traj):\n",
    "    builder = DiagramBuilder()\n",
    "    \n",
    "    scene_graph = builder.AddSystem(SceneGraph())\n",
    "    plant = MultibodyPlant(time_step=0.0)\n",
    "    plant.RegisterAsSourceForSceneGraph(scene_graph)\n",
    "    parser = Parser(plant)\n",
    "    parser.package_map().Add( \"wsg_50_description\", os.path.dirname(FindResourceOrThrow(\n",
    "                \"drake/manipulation/models/wsg_50_description/package.xml\")))\n",
    "\n",
    "    table_dim = np.array([4, 4, 0.2])\n",
    "    table = plant.AddRigidBody(\"table\", SpatialInertia(\n",
    "            mass=1.0, p_PScm_E=np.array([0., 0., 0.]), G_SP_E=UnitInertia(1.0, 1.0, 1.0)))\n",
    "    plant.WeldFrames(plant.world_frame(), table.body_frame(), RigidTransform(p=np.array([0, 0, -table_dim[2]/2])))\n",
    "    plant.RegisterVisualGeometry(table, RigidTransform(), Box(*table_dim), \"table_vis\",\n",
    "                                 np.array([0.5, 0.5, 0.5, 1.]))\n",
    "    plant.RegisterCollisionGeometry(table, RigidTransform(), Box(*table_dim), \"table_collision\",\n",
    "                                    CoulombFriction(0.9, 0.8))\n",
    "    \n",
    "    directives_file = FindResourceOrThrow(model_file)\n",
    "    directives = LoadModelDirectives(directives_file)\n",
    "    models = ProcessModelDirectives(directives, plant, parser)\n",
    "    \n",
    "    plant.Finalize()\n",
    "\n",
    "    to_pose = builder.AddSystem(MultibodyPositionToGeometryPose(plant))\n",
    "    builder.Connect(to_pose.get_output_port(), scene_graph.get_source_pose_port(plant.get_source_id()))\n",
    "\n",
    "    traj_system = builder.AddSystem(TrajectorySource(traj))\n",
    "    builder.Connect(traj_system.get_output_port(), to_pose.get_input_port())\n",
    "    \n",
    "    meshcat = ConnectMeshcatVisualizer(builder, scene_graph, zmq_url=zmq_url,\n",
    "                                       delete_prefix_on_load=False, role=viz_role)\n",
    "\n",
    "    vis_diagram = builder.Build()\n",
    "    simulator = Simulator(vis_diagram)\n",
    "    meshcat.start_recording()\n",
    "    simulator.AdvanceTo(traj.end_time())\n",
    "    meshcat.publish_recording()\n",
    "\n",
    "q_test = [0.4, 1.8, -0.5]\n",
    "traj = PiecewisePolynomial.FirstOrderHold([0, 3], np.array([[-0.2, -1.2, 1.6], q_test]).T)\n",
    "vis.delete()\n",
    "display(vis.jupyter_cell())\n",
    "visualize_trajectory(traj)"
   ]
  },
  {
   "cell_type": "markdown",
   "metadata": {},
   "source": [
    "# Functions and Parameters for Planning "
   ]
  },
  {
   "cell_type": "code",
   "execution_count": 7,
   "metadata": {},
   "outputs": [],
   "source": [
    "q_start = np.array([0.5, -1.2, 0])\n",
    "q_end = np.array([0.8, -1.6, -0.9])\n",
    "\n",
    "goal_bias = 0.05\n",
    "step_size = np.pi/16\n",
    "collision_step_size = step_size/4\n",
    "solve_timeout = 100\n",
    "\n",
    "plant_context_planning = plant.GetMyContextFromRoot(context)\n",
    "\n",
    "PositionUpperLimits = plant.GetPositionUpperLimits()\n",
    "PositionLowerLimits = plant.GetPositionLowerLimits()"
   ]
  },
  {
   "cell_type": "code",
   "execution_count": 8,
   "metadata": {},
   "outputs": [],
   "source": [
    "def sampling_cspace():\n",
    "    if np.random.rand() < goal_bias:\n",
    "        return q_end \n",
    "    return np.random.rand(3)*(PositionUpperLimits-PositionLowerLimits) + PositionLowerLimits\n",
    "\n",
    "def check_goal_fn(q):\n",
    "    return np.linalg.norm(q_end - q) < 1e-6\n",
    "\n",
    "def distance_fn(q_1, q_2):\n",
    "    return np.linalg.norm(q_2 - q_1)\n",
    "\n",
    "\n",
    "def check_state_validity_fn(point):\n",
    "    #check for collisions\n",
    "    plant.SetPositions(plant_context_planning, point)\n",
    "    query_object = plant.get_geometry_query_input_port().Eval(plant_context_planning)\n",
    "    \n",
    "    return not query_object.HasCollisions()\n",
    "\n",
    "        \n",
    "        \n",
    "def check_edge_validity_fn(start, end):\n",
    "    #use first order interpolation to check collisions along a path between start and end\n",
    "    def checkEdgeCollisionFree(start, end, stepsize):\n",
    "        num_steps = np.ceil(distance_fn(start, end)/stepsize)\n",
    "\n",
    "        for step in range(int(num_steps)+1):\n",
    "            interpolation_ratio = step / num_steps\n",
    "            interpolated_point = start + interpolation_ratio*(end-start)\n",
    "            \n",
    "            if not check_state_validity_fn(interpolated_point):\n",
    "                return False\n",
    "\n",
    "        return True\n",
    "\n",
    "    return checkEdgeCollisionFree(start, end, collision_step_size)\n",
    "\n",
    "def extend_fn(nearest, sample, is_start_tree = None):\n",
    "    extend = None\n",
    "    extend_dist = distance_fn(nearest, sample)\n",
    "    \n",
    "    if extend_dist <= step_size:\n",
    "        extend = sample\n",
    "    else:\n",
    "        extend = nearest + step_size/extend_dist * (sample - nearest)\n",
    "    \n",
    "    if not check_edge_validity_fn(nearest, extend):\n",
    "        return []\n",
    "    \n",
    "    return [PropagatedState(state=extend, relative_parent_index=-1)]\n",
    "    \n"
   ]
  },
  {
   "cell_type": "markdown",
   "metadata": {},
   "source": [
    "# Use RRT to Plan Trajectory"
   ]
  },
  {
   "cell_type": "code",
   "execution_count": 8,
   "metadata": {},
   "outputs": [
    {
     "name": "stdout",
     "output_type": "stream",
     "text": [
      "[]\n"
     ]
    }
   ],
   "source": [
    "rrt_tree = [SimpleRRTPlannerState(q_start)]\n",
    "\n",
    "\n",
    "nearest_neighbor_fn = MakeKinematicLinearRRTNearestNeighborsFunction(distance_fn=distance_fn, use_parallel = False)\n",
    "\n",
    "termination_fn = MakeRRTTimeoutTerminationFunction(solve_timeout)\n",
    "\n",
    "single_result = RRTPlanSinglePath(\n",
    "    tree=rrt_tree, sampling_fn=sampling_cspace,\n",
    "    nearest_neighbor_fn =nearest_neighbor_fn,\n",
    "    forward_propagation_fn=extend_fn,\n",
    "    state_added_callback_fn=None,\n",
    "    check_goal_reached_fn=check_goal_fn, goal_reached_callback_fn=None,\n",
    "    termination_check_fn=termination_fn)\n",
    "\n",
    "path = single_result.Path()\n",
    "\n",
    "print(path)\n",
    "\n",
    "if len(path) > 0:\n",
    "    rrt_traj = PiecewisePolynomial.FirstOrderHold(list(range(len(path))), np.stack(path).T) \n",
    "\n",
    "    vis.delete()\n",
    "    display(vis.jupyter_cell())\n",
    "    visualize_trajectory(rrt_traj)"
   ]
  },
  {
   "cell_type": "markdown",
   "metadata": {},
   "source": [
    "# Use Bi-RRT to Plan Trajectory"
   ]
  },
  {
   "cell_type": "code",
   "execution_count": 9,
   "metadata": {},
   "outputs": [
    {
     "name": "stderr",
     "output_type": "stream",
     "text": [
      "<ipython-input-8-e5e286c59a58>:28: RuntimeWarning: invalid value encountered in double_scalars\n",
      "  interpolation_ratio = step / num_steps\n"
     ]
    }
   ],
   "source": [
    "# Reuse single RRT functions, but need to add connect\n",
    "seed = 0\n",
    "step_size = np.pi/32\n",
    "collision_step_size = step_size/128\n",
    "\n",
    "def connect_fn(nearest, sample, is_start_tree):\n",
    "    total_dist = distance_fn(nearest, sample)\n",
    "    total_steps = int(np.ceil(total_dist / step_size))        \n",
    "        \n",
    "    propagated_states = []\n",
    "    parent_offset = -1\n",
    "    current = nearest\n",
    "    for steps in range(total_steps):\n",
    "        current_target = None\n",
    "        target_dist = distance_fn(current, sample)\n",
    "        if target_dist > step_size:\n",
    "            #interpolate\n",
    "            current_target = current + step_size/target_dist * (sample - current)\n",
    "            \n",
    "        elif target_dist < 1e-6:\n",
    "            break\n",
    "        else:\n",
    "            current_target = sample\n",
    "        \n",
    "        if not check_edge_validity_fn(current, current_target):\n",
    "            return propagated_states\n",
    "    \n",
    "                    \n",
    "        propagated_states.append(PropagatedState(state=current_target, relative_parent_index=parent_offset))\n",
    "        parent_offset += 1\n",
    "        current = current_target\n",
    "\n",
    "    return propagated_states\n",
    "        \n",
    "        \n",
    "def states_connected_fn(source, target, is_start_tree):\n",
    "    return np.linalg.norm(source - target) < 1e-6\n",
    "        \n",
    "start_tree = [SimpleRRTPlannerState(q_start)]\n",
    "end_tree = [SimpleRRTPlannerState(q_end)]\n",
    "\n",
    "\n",
    "nearest_neighbor_fn = MakeKinematicLinearBiRRTNearestNeighborsFunction(distance_fn=distance_fn, use_parallel = False)\n",
    "\n",
    "termination_fn = MakeBiRRTTimeoutTerminationFunction(solve_timeout)\n",
    "\n",
    "extend_result = BiRRTPlanSinglePath(\n",
    "    start_tree=start_tree, goal_tree=end_tree,\n",
    "    state_sampling_fn=sampling_cspace,\n",
    "    nearest_neighbor_fn=nearest_neighbor_fn, propagation_fn=extend_fn,\n",
    "    state_added_callback_fn=None,\n",
    "    states_connected_fn=states_connected_fn,\n",
    "    goal_bridge_callback_fn=None,\n",
    "    tree_sampling_bias=0.5, p_switch_tree=0.25,\n",
    "    termination_check_fn=termination_fn, rng=RandomGenerator(seed))\n",
    "\n",
    "connect_result = BiRRTPlanSinglePath(\n",
    "    start_tree=start_tree, goal_tree=end_tree,\n",
    "    state_sampling_fn=sampling_cspace,\n",
    "    nearest_neighbor_fn=nearest_neighbor_fn, propagation_fn=connect_fn,\n",
    "    state_added_callback_fn=None,\n",
    "    states_connected_fn=states_connected_fn,\n",
    "    goal_bridge_callback_fn=None,\n",
    "    tree_sampling_bias=0.5, p_switch_tree=0.25,\n",
    "    termination_check_fn=termination_fn, rng=RandomGenerator(seed))\n",
    "\n",
    "extend_path = extend_result.Path()\n",
    "connect_path = connect_result.Path()"
   ]
  },
  {
   "cell_type": "code",
   "execution_count": 10,
   "metadata": {},
   "outputs": [
    {
     "data": {
      "text/html": [
       "\n",
       "            <div style=\"height: 400px; width: 100%; overflow-x: auto; overflow-y: hidden; resize: both\">\n",
       "            <iframe src=\"http://127.0.0.1:7002/static/\" style=\"width: 100%; height: 100%; border: none\"></iframe>\n",
       "            </div>\n",
       "            "
      ],
      "text/plain": [
       "<IPython.core.display.HTML object>"
      ]
     },
     "metadata": {},
     "output_type": "display_data"
    },
    {
     "name": "stdout",
     "output_type": "stream",
     "text": [
      "Connecting to meshcat-server at zmq_url=tcp://127.0.0.1:6001...\n",
      "You can open the visualizer by visiting the following URL:\n",
      "http://127.0.0.1:7002/static/\n",
      "Connected to meshcat-server.\n"
     ]
    }
   ],
   "source": [
    "birrt_traj = PiecewisePolynomial.FirstOrderHold(list(range(len(connect_path))), np.stack(connect_path).T) \n",
    "#birrt_traj = PiecewisePolynomial.FirstOrderHold(list(range(len(extend_path))), np.stack(extend_path).T) \n",
    "\n",
    "vis.delete()\n",
    "display(vis.jupyter_cell())\n",
    "visualize_trajectory(birrt_traj)"
   ]
  },
  {
   "cell_type": "markdown",
   "metadata": {},
   "source": [
    "## Use PRM to Plan Trajectory"
   ]
  },
  {
   "cell_type": "code",
   "execution_count": 130,
   "metadata": {},
   "outputs": [],
   "source": [
    "def prm_sampling_fn():\n",
    "    return np.random.rand(3)*(PositionUpperLimits-PositionLowerLimits) + PositionLowerLimits\n",
    "\n",
    "def roadmap_termination_fn(current_roadmap_size):\n",
    "    return current_roadmap_size >= roadmap_size"
   ]
  },
  {
   "cell_type": "markdown",
   "metadata": {},
   "source": [
    "### Sample Uniformly at first"
   ]
  },
  {
   "cell_type": "code",
   "execution_count": 140,
   "metadata": {},
   "outputs": [
    {
     "name": "stdout",
     "output_type": "stream",
     "text": [
      "Time: 25.0s\n"
     ]
    }
   ],
   "source": [
    "start = time.time()\n",
    "# Sample uniformly\n",
    "K = 5\n",
    "roadmap_size = 250 # increase this number for more inital coverage \n",
    "\n",
    "#roadmap = Graph([GraphNode(q_start), GraphNode(q_end)])\n",
    "roadmap = Graph()\n",
    "\n",
    "GrowRoadMap(roadmap, prm_sampling_fn, distance_fn,\n",
    "        check_state_validity_fn, check_edge_validity_fn,\n",
    "        roadmap_termination_fn, K, False, True, False)\n",
    "\n",
    "#UpdateRoadMapEdges(roadmap, check_edge_validity_fn, distance_fn, False)\n",
    "print(f\"Time: {np.ceil(time.time() - start)}s\")"
   ]
  },
  {
   "cell_type": "markdown",
   "metadata": {},
   "source": [
    "### Identify sparse Milestones and sample around it to increase density"
   ]
  },
  {
   "cell_type": "code",
   "execution_count": 141,
   "metadata": {
    "scrolled": false
   },
   "outputs": [
    {
     "name": "stdout",
     "output_type": "stream",
     "text": [
      "Sparse Count: 15\n",
      "Sparse Count: 20\n",
      "Sparse Count: 4\n",
      "Sparse Count: 1\n",
      "Sparse Count: 0\n",
      "Time: 4.0s\n"
     ]
    }
   ],
   "source": [
    "start = time.time()\n",
    "#identify milestones with only a few connections and sample around it\n",
    "max_iter = 100\n",
    "cnt = 0\n",
    "\n",
    "while cnt < max_iter:\n",
    "    milestones = roadmap.GetNodesImmutable()\n",
    "    sparse_milestones = list(filter(lambda node: len(node.GetInEdgesImmutable()) < K , milestones))\n",
    "    print(f\"Sparse Count: {len(sparse_milestones)}\")\n",
    "    if len(sparse_milestones) == 0:\n",
    "        #not sparse anymore\n",
    "        break\n",
    "    \n",
    "    roadmap_size += 50\n",
    "    \n",
    "    sparse_qs = np.stack([node.GetValueImmutable()for node in sparse_milestones])\n",
    "    \n",
    "    lower_bound = np.maximum(sparse_qs - step_size, PositionLowerLimits)\n",
    "    upper_bound = np.minimum(sparse_qs + step_size, PositionUpperLimits)\n",
    "\n",
    "    def sparse_sampling_fn():\n",
    "        q_idx = np.random.randint(lower_bound.shape[0])\n",
    "        return np.random.rand(3)*(upper_bound[q_idx, :] -lower_bound[q_idx, :]) + lower_bound[q_idx, :]\n",
    "    \n",
    "    GrowRoadMap(roadmap, sparse_sampling_fn, distance_fn,\n",
    "        check_state_validity_fn, check_edge_validity_fn,\n",
    "        roadmap_termination_fn, K, False, True, False)\n",
    "\n",
    "    cnt +=1\n",
    "    \n",
    "print(f\"Time: {np.ceil(time.time() - start)}s\")"
   ]
  },
  {
   "cell_type": "code",
   "execution_count": 142,
   "metadata": {},
   "outputs": [
    {
     "name": "stdout",
     "output_type": "stream",
     "text": [
      "Increased roadmap to 450\n"
     ]
    }
   ],
   "source": [
    "print(f\"Increased roadmap to {roadmap_size}\")"
   ]
  },
  {
   "cell_type": "markdown",
   "metadata": {},
   "source": [
    "### Altought all nodes have at least K neighbors, there is a chance that our graph is disconnected"
   ]
  },
  {
   "cell_type": "code",
   "execution_count": 143,
   "metadata": {},
   "outputs": [
    {
     "name": "stdout",
     "output_type": "stream",
     "text": [
      "Found 5 subgraphs, with sizes [330, 9, 6, 10, 95]\n"
     ]
    }
   ],
   "source": [
    "def return_subgraphs_idx(roadmap):\n",
    "    milestones_idx = set(range(len(roadmap.GetNodesMutable())))\n",
    "    subgraphs = []\n",
    "    \n",
    "    while len(milestones_idx) != 0:\n",
    "        #pick a random milestone\n",
    "        subgraph = set()\n",
    "        root = milestones_idx.pop()\n",
    "        queue = [root]\n",
    "    \n",
    "        #start expanding bfs style \n",
    "        while len(queue) != 0:\n",
    "            expand_node_idx = queue.pop(0)\n",
    "        \n",
    "            if expand_node_idx in subgraph:\n",
    "                #already expanded\n",
    "                continue\n",
    "            \n",
    "            subgraph.add(expand_node_idx)\n",
    "            expand_node = roadmap.GetNodeImmutable(expand_node_idx)\n",
    "            for child in [edge.GetToIndex() for edge in expand_node.GetOutEdgesImmutable()]:\n",
    "                queue.append(child)\n",
    "    \n",
    "        subgraphs.append(subgraph)\n",
    "        #remove subgraph from milestones \n",
    "        milestones_idx -= set(subgraph)\n",
    "    return milestones_idx, subgraphs\n",
    "\n",
    "milestones_idx, subgraphs = return_subgraphs_idx(roadmap)\n",
    "\n",
    "print(f\"Found {len(subgraphs)} subgraphs, with sizes {list(map(len,subgraphs))}\")"
   ]
  },
  {
   "cell_type": "markdown",
   "metadata": {},
   "source": [
    "## Compute center of subgraphs for implosions"
   ]
  },
  {
   "cell_type": "code",
   "execution_count": 144,
   "metadata": {},
   "outputs": [],
   "source": [
    "center_nodes = []\n",
    "for graph in subgraphs:\n",
    "    graph_qs = []\n",
    "    for q_idx in graph:\n",
    "        graph_qs.append(roadmap.GetNodeImmutable(q_idx).GetValueImmutable())\n",
    "    graph_qs = np.stack(graph_qs)\n",
    "    mean_q = graph_qs.mean(axis=0)\n",
    "    center_nodes.append(mean_q)"
   ]
  },
  {
   "cell_type": "code",
   "execution_count": 145,
   "metadata": {},
   "outputs": [
    {
     "data": {
      "text/plain": [
       "[array([ 0.01568963, -0.10807747,  0.01112872]),\n",
       " array([ 1.9151396 ,  0.76834599, -2.03627725]),\n",
       " array([1.60390609, 1.37885795, 1.49537835]),\n",
       " array([ 0.44069248, -1.748413  , -1.30914936]),\n",
       " array([ 0.61725459, -1.1132594 , -0.56739574])]"
      ]
     },
     "execution_count": 145,
     "metadata": {},
     "output_type": "execute_result"
    }
   ],
   "source": [
    "center_nodes"
   ]
  },
  {
   "cell_type": "code",
   "execution_count": 137,
   "metadata": {},
   "outputs": [],
   "source": [
    "max_dist = np.linalg.norm(np.max(center_nodes, axis = 0) - np.min(center_nodes, axis = 0))"
   ]
  },
  {
   "cell_type": "code",
   "execution_count": 146,
   "metadata": {
    "scrolled": true
   },
   "outputs": [
    {
     "name": "stdout",
     "output_type": "stream",
     "text": [
      "Time: 127.0s\n"
     ]
    }
   ],
   "source": [
    "start = time.time()\n",
    "def sample_spherical(offset, r=1, ndim=3):\n",
    "    vec = np.random.randn(3)\n",
    "    vec /= np.linalg.norm(vec)\n",
    "    vec *=r #resize\n",
    "    vec += offset\n",
    "    return vec\n",
    "\n",
    "gamma = 0.7\n",
    "\n",
    "for q_center in center_nodes:\n",
    "    r = max_dist #inital implosion radius \n",
    "    \n",
    "    implosion_steps = int(abs(np.ceil(np.log(r/step_size)/np.log(gamma))))\n",
    "    \n",
    "    def implosion_sampling_fn(r=r):\n",
    "        q_rand = sample_spherical(q_center, r)\n",
    "        while True:\n",
    "            if all(q_rand >= PositionLowerLimits) and all(q_rand <= PositionUpperLimits):\n",
    "                return q_rand\n",
    "            r *= gamma #decay\n",
    "            q_rand = sample_spherical(q_center, r)\n",
    "            \n",
    "    for _ in range(implosion_steps):\n",
    "        #perimeter of sphere\n",
    "        roadmap_size += int(np.ceil(2*np.pi*r/step_size)) #keep constant density along implostion\n",
    "        GrowRoadMap(roadmap, implosion_sampling_fn, distance_fn,\n",
    "            check_state_validity_fn, check_edge_validity_fn,\n",
    "            roadmap_termination_fn, K, False, True, False)\n",
    "        r *= gamma #decay\n",
    "print(f\"Time: {np.ceil(time.time() - start)}s\")"
   ]
  },
  {
   "cell_type": "code",
   "execution_count": 147,
   "metadata": {},
   "outputs": [
    {
     "name": "stdout",
     "output_type": "stream",
     "text": [
      "Found 8 subgraphs, with sizes [3354, 24, 2, 6, 10, 2, 1, 1]\n",
      "Increased roadmap to 3400\n"
     ]
    }
   ],
   "source": [
    "milestones_idx, subgraphs = return_subgraphs_idx(roadmap)\n",
    "\n",
    "print(f\"Found {len(subgraphs)} subgraphs, with sizes {list(map(len,subgraphs))}\")\n",
    "print(f\"Increased roadmap to {roadmap_size}\")"
   ]
  },
  {
   "cell_type": "markdown",
   "metadata": {},
   "source": [
    "### Now try to connect subgraphs"
   ]
  },
  {
   "cell_type": "code",
   "execution_count": 148,
   "metadata": {},
   "outputs": [
    {
     "name": "stdout",
     "output_type": "stream",
     "text": [
      "Try to fully connect subgraphs\n"
     ]
    },
    {
     "ename": "KeyboardInterrupt",
     "evalue": "",
     "output_type": "error",
     "traceback": [
      "\u001b[0;31m---------------------------------------------------------------------------\u001b[0m",
      "\u001b[0;31mKeyboardInterrupt\u001b[0m                         Traceback (most recent call last)",
      "\u001b[0;32m<ipython-input-148-5f60db26f308>\u001b[0m in \u001b[0;36m<module>\u001b[0;34m\u001b[0m\n\u001b[1;32m     40\u001b[0m     \u001b[0mprint\u001b[0m\u001b[0;34m(\u001b[0m\u001b[0;34m\"Try to fully connect subgraphs\"\u001b[0m\u001b[0;34m)\u001b[0m\u001b[0;34m\u001b[0m\u001b[0;34m\u001b[0m\u001b[0m\n\u001b[1;32m     41\u001b[0m     \u001b[0mmothernodes\u001b[0m \u001b[0;34m=\u001b[0m \u001b[0mlist\u001b[0m\u001b[0;34m(\u001b[0m\u001b[0mmap\u001b[0m\u001b[0;34m(\u001b[0m\u001b[0;32mlambda\u001b[0m \u001b[0mgraph\u001b[0m\u001b[0;34m:\u001b[0m \u001b[0mnp\u001b[0m\u001b[0;34m.\u001b[0m\u001b[0mrandom\u001b[0m\u001b[0;34m.\u001b[0m\u001b[0mchoice\u001b[0m\u001b[0;34m(\u001b[0m\u001b[0mlist\u001b[0m\u001b[0;34m(\u001b[0m\u001b[0mgraph\u001b[0m\u001b[0;34m)\u001b[0m\u001b[0;34m)\u001b[0m\u001b[0;34m,\u001b[0m \u001b[0msubgraphs\u001b[0m\u001b[0;34m)\u001b[0m\u001b[0;34m)\u001b[0m\u001b[0;34m\u001b[0m\u001b[0;34m\u001b[0m\u001b[0m\n\u001b[0;32m---> 42\u001b[0;31m     \u001b[0mRRT_Connect\u001b[0m\u001b[0;34m(\u001b[0m\u001b[0mcombinations\u001b[0m\u001b[0;34m(\u001b[0m\u001b[0mmothernodes\u001b[0m\u001b[0;34m,\u001b[0m\u001b[0;36m2\u001b[0m\u001b[0;34m)\u001b[0m\u001b[0;34m)\u001b[0m\u001b[0;34m\u001b[0m\u001b[0;34m\u001b[0m\u001b[0m\n\u001b[0m\u001b[1;32m     43\u001b[0m \u001b[0;34m\u001b[0m\u001b[0m\n\u001b[1;32m     44\u001b[0m \u001b[0;34m\u001b[0m\u001b[0m\n",
      "\u001b[0;32m<ipython-input-148-5f60db26f308>\u001b[0m in \u001b[0;36mRRT_Connect\u001b[0;34m(connect_pairs)\u001b[0m\n\u001b[1;32m     13\u001b[0m         \u001b[0mtermination_fn\u001b[0m \u001b[0;34m=\u001b[0m \u001b[0mMakeBiRRTTimeoutTerminationFunction\u001b[0m\u001b[0;34m(\u001b[0m\u001b[0msolve_timeout\u001b[0m\u001b[0;34m)\u001b[0m\u001b[0;34m\u001b[0m\u001b[0;34m\u001b[0m\u001b[0m\n\u001b[1;32m     14\u001b[0m \u001b[0;34m\u001b[0m\u001b[0m\n\u001b[0;32m---> 15\u001b[0;31m         connect_result = BiRRTPlanSinglePath(\n\u001b[0m\u001b[1;32m     16\u001b[0m             \u001b[0mstart_tree\u001b[0m\u001b[0;34m=\u001b[0m\u001b[0mstart_tree\u001b[0m\u001b[0;34m,\u001b[0m \u001b[0mgoal_tree\u001b[0m\u001b[0;34m=\u001b[0m\u001b[0mend_tree\u001b[0m\u001b[0;34m,\u001b[0m\u001b[0;34m\u001b[0m\u001b[0;34m\u001b[0m\u001b[0m\n\u001b[1;32m     17\u001b[0m             \u001b[0mstate_sampling_fn\u001b[0m\u001b[0;34m=\u001b[0m\u001b[0msampling_cspace\u001b[0m\u001b[0;34m,\u001b[0m\u001b[0;34m\u001b[0m\u001b[0;34m\u001b[0m\u001b[0m\n",
      "\u001b[0;32m<ipython-input-9-69b1c65b120f>\u001b[0m in \u001b[0;36mconnect_fn\u001b[0;34m(nearest, sample, is_start_tree)\u001b[0m\n\u001b[1;32m     23\u001b[0m             \u001b[0mcurrent_target\u001b[0m \u001b[0;34m=\u001b[0m \u001b[0msample\u001b[0m\u001b[0;34m\u001b[0m\u001b[0;34m\u001b[0m\u001b[0m\n\u001b[1;32m     24\u001b[0m \u001b[0;34m\u001b[0m\u001b[0m\n\u001b[0;32m---> 25\u001b[0;31m         \u001b[0;32mif\u001b[0m \u001b[0;32mnot\u001b[0m \u001b[0mcheck_edge_validity_fn\u001b[0m\u001b[0;34m(\u001b[0m\u001b[0mcurrent\u001b[0m\u001b[0;34m,\u001b[0m \u001b[0mcurrent_target\u001b[0m\u001b[0;34m)\u001b[0m\u001b[0;34m:\u001b[0m\u001b[0;34m\u001b[0m\u001b[0;34m\u001b[0m\u001b[0m\n\u001b[0m\u001b[1;32m     26\u001b[0m             \u001b[0;32mreturn\u001b[0m \u001b[0mpropagated_states\u001b[0m\u001b[0;34m\u001b[0m\u001b[0;34m\u001b[0m\u001b[0m\n\u001b[1;32m     27\u001b[0m \u001b[0;34m\u001b[0m\u001b[0m\n",
      "\u001b[0;32m<ipython-input-8-e5e286c59a58>\u001b[0m in \u001b[0;36mcheck_edge_validity_fn\u001b[0;34m(start, end)\u001b[0m\n\u001b[1;32m     34\u001b[0m         \u001b[0;32mreturn\u001b[0m \u001b[0;32mTrue\u001b[0m\u001b[0;34m\u001b[0m\u001b[0;34m\u001b[0m\u001b[0m\n\u001b[1;32m     35\u001b[0m \u001b[0;34m\u001b[0m\u001b[0m\n\u001b[0;32m---> 36\u001b[0;31m     \u001b[0;32mreturn\u001b[0m \u001b[0mcheckEdgeCollisionFree\u001b[0m\u001b[0;34m(\u001b[0m\u001b[0mstart\u001b[0m\u001b[0;34m,\u001b[0m \u001b[0mend\u001b[0m\u001b[0;34m,\u001b[0m \u001b[0mcollision_step_size\u001b[0m\u001b[0;34m)\u001b[0m\u001b[0;34m\u001b[0m\u001b[0;34m\u001b[0m\u001b[0m\n\u001b[0m\u001b[1;32m     37\u001b[0m \u001b[0;34m\u001b[0m\u001b[0m\n\u001b[1;32m     38\u001b[0m \u001b[0;32mdef\u001b[0m \u001b[0mextend_fn\u001b[0m\u001b[0;34m(\u001b[0m\u001b[0mnearest\u001b[0m\u001b[0;34m,\u001b[0m \u001b[0msample\u001b[0m\u001b[0;34m,\u001b[0m \u001b[0mis_start_tree\u001b[0m \u001b[0;34m=\u001b[0m \u001b[0;32mNone\u001b[0m\u001b[0;34m)\u001b[0m\u001b[0;34m:\u001b[0m\u001b[0;34m\u001b[0m\u001b[0;34m\u001b[0m\u001b[0m\n",
      "\u001b[0;32m<ipython-input-8-e5e286c59a58>\u001b[0m in \u001b[0;36mcheckEdgeCollisionFree\u001b[0;34m(start, end, stepsize)\u001b[0m\n\u001b[1;32m     29\u001b[0m             \u001b[0minterpolated_point\u001b[0m \u001b[0;34m=\u001b[0m \u001b[0mstart\u001b[0m \u001b[0;34m+\u001b[0m \u001b[0minterpolation_ratio\u001b[0m\u001b[0;34m*\u001b[0m\u001b[0;34m(\u001b[0m\u001b[0mend\u001b[0m\u001b[0;34m-\u001b[0m\u001b[0mstart\u001b[0m\u001b[0;34m)\u001b[0m\u001b[0;34m\u001b[0m\u001b[0;34m\u001b[0m\u001b[0m\n\u001b[1;32m     30\u001b[0m \u001b[0;34m\u001b[0m\u001b[0m\n\u001b[0;32m---> 31\u001b[0;31m             \u001b[0;32mif\u001b[0m \u001b[0;32mnot\u001b[0m \u001b[0mcheck_state_validity_fn\u001b[0m\u001b[0;34m(\u001b[0m\u001b[0minterpolated_point\u001b[0m\u001b[0;34m)\u001b[0m\u001b[0;34m:\u001b[0m\u001b[0;34m\u001b[0m\u001b[0;34m\u001b[0m\u001b[0m\n\u001b[0m\u001b[1;32m     32\u001b[0m                 \u001b[0;32mreturn\u001b[0m \u001b[0;32mFalse\u001b[0m\u001b[0;34m\u001b[0m\u001b[0;34m\u001b[0m\u001b[0m\n\u001b[1;32m     33\u001b[0m \u001b[0;34m\u001b[0m\u001b[0m\n",
      "\u001b[0;32m<ipython-input-8-e5e286c59a58>\u001b[0m in \u001b[0;36mcheck_state_validity_fn\u001b[0;34m(point)\u001b[0m\n\u001b[1;32m     13\u001b[0m \u001b[0;32mdef\u001b[0m \u001b[0mcheck_state_validity_fn\u001b[0m\u001b[0;34m(\u001b[0m\u001b[0mpoint\u001b[0m\u001b[0;34m)\u001b[0m\u001b[0;34m:\u001b[0m\u001b[0;34m\u001b[0m\u001b[0;34m\u001b[0m\u001b[0m\n\u001b[1;32m     14\u001b[0m     \u001b[0;31m#check for collisions\u001b[0m\u001b[0;34m\u001b[0m\u001b[0;34m\u001b[0m\u001b[0;34m\u001b[0m\u001b[0m\n\u001b[0;32m---> 15\u001b[0;31m     \u001b[0mplant\u001b[0m\u001b[0;34m.\u001b[0m\u001b[0mSetPositions\u001b[0m\u001b[0;34m(\u001b[0m\u001b[0mplant_context_planning\u001b[0m\u001b[0;34m,\u001b[0m \u001b[0mpoint\u001b[0m\u001b[0;34m)\u001b[0m\u001b[0;34m\u001b[0m\u001b[0;34m\u001b[0m\u001b[0m\n\u001b[0m\u001b[1;32m     16\u001b[0m     \u001b[0mquery_object\u001b[0m \u001b[0;34m=\u001b[0m \u001b[0mplant\u001b[0m\u001b[0;34m.\u001b[0m\u001b[0mget_geometry_query_input_port\u001b[0m\u001b[0;34m(\u001b[0m\u001b[0;34m)\u001b[0m\u001b[0;34m.\u001b[0m\u001b[0mEval\u001b[0m\u001b[0;34m(\u001b[0m\u001b[0mplant_context_planning\u001b[0m\u001b[0;34m)\u001b[0m\u001b[0;34m\u001b[0m\u001b[0;34m\u001b[0m\u001b[0m\n\u001b[1;32m     17\u001b[0m \u001b[0;34m\u001b[0m\u001b[0m\n",
      "\u001b[0;31mKeyboardInterrupt\u001b[0m: "
     ]
    }
   ],
   "source": [
    "start = time.time()\n",
    "def RRT_Connect(connect_pairs):\n",
    "    for q_ini_idx, q_final_idx in connect_pairs:\n",
    "        q_ini = roadmap.GetNodeImmutable(q_ini_idx).GetValueImmutable()\n",
    "        q_final = roadmap.GetNodeImmutable(q_final_idx).GetValueImmutable()\n",
    "    \n",
    "        start_tree = [SimpleRRTPlannerState(q_ini)]\n",
    "        end_tree = [SimpleRRTPlannerState(q_final)]\n",
    "\n",
    "\n",
    "        nearest_neighbor_fn = MakeKinematicLinearBiRRTNearestNeighborsFunction(distance_fn=distance_fn, use_parallel = False)\n",
    "\n",
    "        termination_fn = MakeBiRRTTimeoutTerminationFunction(solve_timeout)\n",
    "    \n",
    "        connect_result = BiRRTPlanSinglePath(\n",
    "            start_tree=start_tree, goal_tree=end_tree,\n",
    "            state_sampling_fn=sampling_cspace,\n",
    "            nearest_neighbor_fn=nearest_neighbor_fn, propagation_fn=connect_fn,\n",
    "            state_added_callback_fn=None,\n",
    "            states_connected_fn=states_connected_fn,\n",
    "            goal_bridge_callback_fn=None,\n",
    "            tree_sampling_bias=0.5, p_switch_tree=0.25,\n",
    "            termination_check_fn=termination_fn, rng=RandomGenerator(seed))\n",
    "        \n",
    "        #add all nodes along the path to roadmap\n",
    "        for q in connect_result.Path():\n",
    "            AddNodeToRoadmap(q, NNDistanceDirection(), roadmap, distance_fn,check_edge_validity_fn, K, False,True,False )\n",
    "            \n",
    "mothernodes = list(map(lambda graph: np.random.choice(list(graph)), subgraphs))\n",
    "#shuffle nodes\n",
    "mothernodes = sorted(mothernodes, key=lambda x: np.random.randint(len(mothernodes)))\n",
    "\n",
    "#try to connect a random chain \n",
    "chain = zip(mothernodes[:-1], mothernodes[1:])\n",
    "RRT_Connect(chain)\n",
    "\n",
    "_, subgraphs = return_subgraphs_idx(roadmap)\n",
    "\n",
    "if len(subgraphs) > 0:\n",
    "    print(\"Try to fully connect subgraphs\")\n",
    "    mothernodes = list(map(lambda graph: np.random.choice(list(graph)), subgraphs))\n",
    "    RRT_Connect(combinations(mothernodes,2))\n",
    "    \n",
    "\n",
    "print(f\"Found {len(subgraphs)} subgraphs, with sizes {list(map(len,subgraphs))}\")\n",
    "print(f\"Time: {np.ceil(time.time() - start)}s\")"
   ]
  },
  {
   "cell_type": "markdown",
   "metadata": {},
   "source": [
    "### Check for connectivity"
   ]
  },
  {
   "cell_type": "code",
   "execution_count": 149,
   "metadata": {},
   "outputs": [
    {
     "name": "stdout",
     "output_type": "stream",
     "text": [
      "Found 5 subgraphs, with sizes [3708, 24, 2, 2, 1]\n"
     ]
    }
   ],
   "source": [
    "milestones_idx, subgraphs = return_subgraphs_idx(roadmap)\n",
    "\n",
    "print(f\"Found {len(subgraphs)} subgraphs, with sizes {list(map(len,subgraphs))}\")"
   ]
  },
  {
   "cell_type": "markdown",
   "metadata": {},
   "source": [
    "## Lets Plan!"
   ]
  },
  {
   "cell_type": "code",
   "execution_count": 151,
   "metadata": {},
   "outputs": [
    {
     "name": "stdout",
     "output_type": "stream",
     "text": [
      "Time: 0.06011652946472168s\n"
     ]
    }
   ],
   "source": [
    "start = time.time()\n",
    "prm_path = QueryPath([q_start], [q_end], roadmap, distance_fn,\n",
    "                check_edge_validity_fn, K,\n",
    "                use_parallel=False,\n",
    "                distance_is_symmetric=True,\n",
    "                add_duplicate_states=False,\n",
    "                limit_astar_pqueue_duplicates=True).Path()\n",
    "print(f\"Time: {(time.time() - start)}s\")"
   ]
  },
  {
   "cell_type": "markdown",
   "metadata": {},
   "source": [
    "## Lets Benchmark"
   ]
  },
  {
   "cell_type": "code",
   "execution_count": 159,
   "metadata": {},
   "outputs": [
    {
     "name": "stdout",
     "output_type": "stream",
     "text": [
      "Number of samples: 400\n",
      "Avg solve time: 0.095 s\n",
      "Min solve time: 0.0 s\n",
      "Max solve time: 0.0 s\n",
      "Failed paths: 56.49999999999999 %\n"
     ]
    }
   ],
   "source": [
    "N = 400\n",
    "failed = 0\n",
    "times = []\n",
    "for i in range(N):\n",
    "    start_time =  time.time()\n",
    "    goal = prm_sampling_fn()\n",
    "    start = prm_sampling_fn()\n",
    "    prm_path = QueryPath([start], [goal], roadmap, distance_fn,\n",
    "                check_edge_validity_fn, K,\n",
    "                use_parallel=False,\n",
    "                distance_is_symmetric=True,\n",
    "                add_duplicate_states=False,\n",
    "                limit_astar_pqueue_duplicates=True).Path()\n",
    "    \n",
    "    if len(prm_path) == 0:\n",
    "        failed +=1\n",
    "    \n",
    "    delta = time.time() - start_time\n",
    "    times.append(delta)\n",
    "    \n",
    "print(f\"Number of samples: {N}\")\n",
    "print(f\"Avg solve time: {np.round(sum(times)/N,3)} s\")\n",
    "print(f\"Min solve time: {np.round(min(times))} s\")\n",
    "print(f\"Max solve time: {np.round(min(times))} s\")\n",
    "print(f\"Failed paths: {failed/N*100} %\")\n",
    "\n",
    "    "
   ]
  },
  {
   "cell_type": "markdown",
   "metadata": {},
   "source": [
    "## Benchmark with Backup plan"
   ]
  },
  {
   "cell_type": "code",
   "execution_count": 160,
   "metadata": {},
   "outputs": [
    {
     "name": "stdout",
     "output_type": "stream",
     "text": [
      "Number of samples: 40\n",
      "Avg solve time: 45.101 s\n",
      "Min solve time: 0.0 s\n",
      "Max solve time: 0.0 s\n",
      "Failed paths: 45.0 %\n",
      "Reconnected paths: 45.0 %\n"
     ]
    }
   ],
   "source": [
    "N = 40\n",
    "failed = 0\n",
    "times = []\n",
    "reconnects = 0\n",
    "for i in range(N):\n",
    "    start_time =  time.time()\n",
    "    goal = prm_sampling_fn()\n",
    "    start = prm_sampling_fn()\n",
    "    prm_path = QueryPath([start], [goal], roadmap, distance_fn,\n",
    "                check_edge_validity_fn, K,\n",
    "                use_parallel=False,\n",
    "                distance_is_symmetric=True,\n",
    "                add_duplicate_states=False,\n",
    "                limit_astar_pqueue_duplicates=True).Path()\n",
    "    \n",
    "    if len(prm_path) == 0:\n",
    "        #attempt to reconnect\n",
    "        reconnects +=1\n",
    "        start_tree = [SimpleRRTPlannerState(start)]\n",
    "        end_tree = [SimpleRRTPlannerState(goal)]\n",
    "\n",
    "        nearest_neighbor_fn = MakeKinematicLinearBiRRTNearestNeighborsFunction(distance_fn=distance_fn, use_parallel = False)\n",
    "\n",
    "        termination_fn = MakeBiRRTTimeoutTerminationFunction(solve_timeout)\n",
    "    \n",
    "        connect_result = BiRRTPlanSinglePath(\n",
    "            start_tree=start_tree, goal_tree=end_tree,\n",
    "            state_sampling_fn=sampling_cspace,\n",
    "            nearest_neighbor_fn=nearest_neighbor_fn, propagation_fn=connect_fn,\n",
    "            state_added_callback_fn=None,\n",
    "            states_connected_fn=states_connected_fn,\n",
    "            goal_bridge_callback_fn=None,\n",
    "            tree_sampling_bias=0.5, p_switch_tree=0.25,\n",
    "            termination_check_fn=termination_fn, rng=RandomGenerator(seed))\n",
    "        \n",
    "        if len(connect_result.Path()) == 0:\n",
    "            failed +=1\n",
    "        #add all nodes along the path to roadmap\n",
    "        for q in connect_result.Path():\n",
    "            AddNodeToRoadmap(q, NNDistanceDirection(), roadmap, distance_fn,check_edge_validity_fn, K, False,True,False )\n",
    "    \n",
    "    delta = time.time() - start_time\n",
    "    times.append(delta)\n",
    "    \n",
    "print(f\"Number of samples: {N}\")\n",
    "print(f\"Avg solve time: {np.round(sum(times)/N,3)} s\")\n",
    "print(f\"Min solve time: {np.round(min(times))} s\")\n",
    "print(f\"Max solve time: {np.round(min(times))} s\")\n",
    "print(f\"Failed paths: {failed/N*100} %\")\n",
    "print(f\"Reconnected paths: {reconnects/N*100} %\")"
   ]
  },
  {
   "cell_type": "code",
   "execution_count": null,
   "metadata": {},
   "outputs": [],
   "source": []
  },
  {
   "cell_type": "code",
   "execution_count": 20,
   "metadata": {},
   "outputs": [
    {
     "data": {
      "text/html": [
       "\n",
       "            <div style=\"height: 400px; width: 100%; overflow-x: auto; overflow-y: hidden; resize: both\">\n",
       "            <iframe src=\"http://127.0.0.1:7002/static/\" style=\"width: 100%; height: 100%; border: none\"></iframe>\n",
       "            </div>\n",
       "            "
      ],
      "text/plain": [
       "<IPython.core.display.HTML object>"
      ]
     },
     "metadata": {},
     "output_type": "display_data"
    },
    {
     "name": "stdout",
     "output_type": "stream",
     "text": [
      "Connecting to meshcat-server at zmq_url=tcp://127.0.0.1:6001...\n",
      "You can open the visualizer by visiting the following URL:\n",
      "http://127.0.0.1:7002/static/\n",
      "Connected to meshcat-server.\n"
     ]
    }
   ],
   "source": [
    "prm_traj = PiecewisePolynomial.FirstOrderHold(list(range(len(prm_path))), np.stack(prm_path).T) \n",
    "\n",
    "vis.delete()\n",
    "display(vis.jupyter_cell())\n",
    "visualize_trajectory(prm_traj)"
   ]
  },
  {
   "cell_type": "code",
   "execution_count": null,
   "metadata": {},
   "outputs": [],
   "source": []
  }
 ],
 "metadata": {
  "kernelspec": {
   "display_name": "Python 3",
   "language": "python",
   "name": "python3"
  },
  "language_info": {
   "codemirror_mode": {
    "name": "ipython",
    "version": 3
   },
   "file_extension": ".py",
   "mimetype": "text/x-python",
   "name": "python",
   "nbconvert_exporter": "python",
   "pygments_lexer": "ipython3",
   "version": "3.8.10"
  }
 },
 "nbformat": 4,
 "nbformat_minor": 2
}
